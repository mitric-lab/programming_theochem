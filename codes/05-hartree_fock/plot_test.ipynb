{
 "cells": [
  {
   "cell_type": "code",
   "execution_count": 1,
   "id": "cf784166",
   "metadata": {},
   "outputs": [],
   "source": [
    "import numpy as np\n",
    "import matplotlib.pyplot as plt\n",
    "from mayavi import mlab\n",
    "\n",
    "from cis import CIS"
   ]
  },
  {
   "cell_type": "code",
   "execution_count": 2,
   "id": "0e38ebd0",
   "metadata": {},
   "outputs": [
    {
     "name": "stdout",
     "output_type": "stream",
     "text": [
      "Notebook initialized with ipy backend.\n"
     ]
    }
   ],
   "source": [
    "mlab.init_notebook()"
   ]
  },
  {
   "cell_type": "code",
   "execution_count": 3,
   "id": "9446b3dd",
   "metadata": {},
   "outputs": [],
   "source": [
    "def evaluate_gaussian_basis(g, x, y, z):\n",
    "    i, j, k = g.ijk\n",
    "    x0, y0, z0 = g.A\n",
    "    g_val = 0.0\n",
    "    for n, d, alpha in zip(g.norm_const, g.coefs, g.exps):\n",
    "        g_val += n * d * (x - x0)**i * (y - y0)**j * (z - z0)**k \\\n",
    "            * np.exp(-alpha * ((x - x0)**2 + (y - y0)**2 + (z - z0)**2))\n",
    "    return g_val"
   ]
  },
  {
   "cell_type": "code",
   "execution_count": 4,
   "id": "059f7037",
   "metadata": {
    "scrolled": true
   },
   "outputs": [
    {
     "name": "stdout",
     "output_type": "stream",
     "text": [
      "-110.65678762984008\n",
      "CIS:\n",
      "Excited State   1: E_exc =     3.7647 eV\n",
      "7a   -> 8b      -0.683147 (46.7 %)\n",
      "7b   -> 8a       0.724720 (52.5 %)\n",
      "\n",
      "Excited State   2: E_exc =     3.7647 eV\n",
      "7a   -> 8b       0.724728 (52.5 %)\n",
      "7b   -> 8a       0.683155 (46.7 %)\n",
      "\n",
      "Excited State   3: E_exc =     3.7647 eV\n",
      "7a   -> 8a      -0.704240 (49.6 %)\n",
      "7b   -> 8b       0.704240 (49.6 %)\n",
      "\n",
      "Excited State   4: E_exc =    10.8304 eV\n",
      "6a   -> 8b       0.479366 (23.0 %)\n",
      "6b   -> 8a      -0.868098 (75.4 %)\n",
      "\n",
      "Excited State   5: E_exc =    10.8304 eV\n",
      "6a   -> 8b      -0.868098 (75.4 %)\n",
      "6b   -> 8a      -0.479366 (23.0 %)\n",
      "\n",
      "Excited State   6: E_exc =    10.8304 eV\n",
      "6a   -> 8a      -0.701208 (49.2 %)\n",
      "6b   -> 8b       0.701208 (49.2 %)\n",
      "\n",
      "Excited State   7: E_exc =    10.9078 eV\n",
      "5a   -> 8a       0.690687 (47.7 %)\n",
      "5b   -> 8b      -0.690687 (47.7 %)\n",
      "\n",
      "Excited State   8: E_exc =    10.9078 eV\n",
      "5b   -> 8a      -0.974071 (94.9 %)\n",
      "\n",
      "Excited State   9: E_exc =    10.9078 eV\n",
      "5a   -> 8b      -0.974071 (94.9 %)\n",
      "\n",
      "Excited State  10: E_exc =    11.4372 eV\n",
      "6a   -> 8a       0.704907 (49.7 %)\n",
      "6b   -> 8b       0.704907 (49.7 %)\n",
      "\n",
      "Excited State  11: E_exc =    11.4694 eV\n",
      "7a   -> 8a       0.683014 (46.7 %)\n",
      "7b   -> 8b       0.683014 (46.7 %)\n",
      "\n",
      "Excited State  12: E_exc =    11.6426 eV\n",
      "5a   -> 8a      -0.698307 (48.8 %)\n",
      "5b   -> 8b      -0.698307 (48.8 %)\n",
      "\n",
      "Excited State  13: E_exc =    14.1731 eV\n",
      "4a   -> 8b       0.995544 (99.1 %)\n",
      "\n",
      "Excited State  14: E_exc =    14.1731 eV\n",
      "4a   -> 8a       0.706506 (49.9 %)\n",
      "4b   -> 8b      -0.706506 (49.9 %)\n",
      "\n",
      "Excited State  15: E_exc =    14.1731 eV\n",
      "4b   -> 8a       0.995680 (99.1 %)\n",
      "\n",
      "Excited State  16: E_exc =    14.8144 eV\n",
      "4a   -> 8a       0.706853 (50.0 %)\n",
      "4b   -> 8b       0.706853 (50.0 %)\n",
      "\n",
      "Excited State  17: E_exc =    15.1257 eV\n",
      "7a   -> 9b       0.785880 (61.8 %)\n",
      "7b   -> 9a      -0.616908 (38.1 %)\n",
      "\n",
      "Excited State  18: E_exc =    15.1257 eV\n",
      "7a   -> 9a       0.706464 (49.9 %)\n",
      "7b   -> 9b      -0.706464 (49.9 %)\n",
      "\n",
      "Excited State  19: E_exc =    15.1257 eV\n",
      "7a   -> 9b      -0.616908 (38.1 %)\n",
      "7b   -> 9a      -0.785880 (61.8 %)\n",
      "\n",
      "Excited State  20: E_exc =    15.7004 eV\n",
      "7a   -> 9a       0.705722 (49.8 %)\n",
      "7b   -> 9b       0.705722 (49.8 %)\n",
      "\n"
     ]
    }
   ],
   "source": [
    "mol = CIS()\n",
    "mol.read_from_xyz('ethene.xyz')\n",
    "mol.get_basis('sto-3g')\n",
    "\n",
    "mol.initialize()\n",
    "e_cis = mol.run_cis(nprint=20)"
   ]
  },
  {
   "cell_type": "code",
   "execution_count": 5,
   "id": "4aec56c7",
   "metadata": {},
   "outputs": [],
   "source": [
    "def build_grid(xlim, ylim, zlim, nx, ny, nz):\n",
    "    x_ = np.linspace(*xlim, nx)\n",
    "    y_ = np.linspace(*ylim, ny)\n",
    "    z_ = np.linspace(*zlim, nz)\n",
    "    x, y, z = np.meshgrid(x_, y_, z_, indexing='ij')\n",
    "    return x, y, z"
   ]
  },
  {
   "cell_type": "code",
   "execution_count": 6,
   "id": "0eb740c8",
   "metadata": {},
   "outputs": [],
   "source": [
    "def evaluate_mo_grid(mol, grid):\n",
    "    x, y, z = grid\n",
    "    \n",
    "    # Build MO coefficient matrix in spin-orbit basis\n",
    "    n_spatial_orb = len(mol.mo_energy)\n",
    "    c_spin = np.zeros((n_spatial_orb * 2, n_spatial_orb * 2))\n",
    "    c_spin[:n_spatial_orb:, ::2] = mol.mo_coeff\n",
    "    c_spin[n_spatial_orb:, 1::2] = mol.mo_coeff\n",
    "    \n",
    "    # Evaluate AOs on the grid\n",
    "    ao_grid = np.zeros((n_spatial_orb * 2, NX, NY, NZ))\n",
    "    \n",
    "    for i, g in enumerate(mol.basisfunctions):\n",
    "        g_grid = evaluate_gaussian_basis(g, x, y, z)\n",
    "        ao_grid[i] = g_grid\n",
    "        ao_grid[i + n_spatial_orb] = g_grid\n",
    "    \n",
    "    # Transform to MOs\n",
    "    mo_grid = np.einsum('ij,ixyz->jxyz', c_spin, ao_grid)\n",
    "    \n",
    "    return mo_grid"
   ]
  },
  {
   "cell_type": "code",
   "execution_count": 7,
   "id": "89244e6d",
   "metadata": {},
   "outputs": [],
   "source": [
    "R_VDW = {\n",
    "    'H': 2.0787,\n",
    "    'C': 3.2125,\n",
    "    'N': 2.9291,\n",
    "    'O': 2.8724,\n",
    "}\n",
    "\n",
    "R_COV = {\n",
    "    'H': 0.6047,\n",
    "    'C': 1.4173,\n",
    "    'N': 1.3417,\n",
    "    'O': 1.1905,\n",
    "}\n",
    "\n",
    "ATOM_COLOR = {\n",
    "    'H': (0.8, 0.8, 0.8),\n",
    "    'C': (0.0, 1.0, 0.0),\n",
    "    'N': (0.0, 0.0, 1.0),\n",
    "    'O': (1.0, 0.0, 0.0),\n",
    "}"
   ]
  },
  {
   "cell_type": "code",
   "execution_count": 8,
   "id": "356769f2",
   "metadata": {},
   "outputs": [],
   "source": [
    "a = np.array([1,2,3])\n",
    "b = np.array([4,5,6])"
   ]
  },
  {
   "cell_type": "code",
   "execution_count": 9,
   "id": "e728f3b7",
   "metadata": {},
   "outputs": [],
   "source": [
    "def visualize_cube(mol, grid, density, isovalues, colors, figure):\n",
    "    # Draw atoms\n",
    "    for a in mol.atomlist:\n",
    "        p = mlab.points3d(\n",
    "            *a.coord, R_VDW[a.symbol], color=ATOM_COLOR[a.symbol], \n",
    "            scale_factor=0.5, figure=figure,\n",
    "        )\n",
    "    \n",
    "    # Draw bonds\n",
    "    for i, a in enumerate(mol.atomlist):\n",
    "        ca = a.coord\n",
    "        sa = a.symbol\n",
    "        ra = R_COV[sa]\n",
    "        for b in mol.atomlist[:i]:\n",
    "            cb = b.coord\n",
    "            sb = b.symbol\n",
    "            rb = R_COV[sb]\n",
    "            \n",
    "            vab = cb - ca\n",
    "            rab = np.linalg.norm(vab)\n",
    "            if rab < (ra + rb) * 1.2:\n",
    "                mid = ca + vab * (ra / (ra + rb))\n",
    "                p = mlab.plot3d(*np.vstack((ca, mid)).T, tube_radius=0.2, \n",
    "                                color=ATOM_COLOR[sa], figure=figure)\n",
    "                p = mlab.plot3d(*np.vstack((cb, mid)).T, tube_radius=0.2, \n",
    "                                color=ATOM_COLOR[sb], figure=figure)\n",
    "\n",
    "    # Draw isosurface\n",
    "    for ival, c in zip(isovalues, colors):\n",
    "        p = mlab.contour3d(*grid, density, color=c, contours=[ival], \n",
    "                           figure=figure)\n",
    "    \n",
    "    return p"
   ]
  },
  {
   "cell_type": "code",
   "execution_count": 10,
   "id": "9fd89c66",
   "metadata": {},
   "outputs": [],
   "source": [
    "XLIM, YLIM, ZLIM = (0.0, 20.0), (0.0, 20.0), (0.0, 20.0)\n",
    "NX, NY, NZ = 80, 80, 80\n",
    "\n",
    "grid = build_grid(XLIM, YLIM, ZLIM, NX, NY, NZ)\n",
    "mo_grid = evaluate_mo_grid(mol, grid)"
   ]
  },
  {
   "cell_type": "code",
   "execution_count": 11,
   "id": "9116d42a",
   "metadata": {},
   "outputs": [],
   "source": [
    "ISOSURFACE_COLORS = [(1, 0, 0), (0, 0, 1)]\n",
    "ORBITAL_ISOVALUES = [0.05, -0.05]\n",
    "DENSITY_ISOVALUES = [0.01, -0.01]\n",
    "\n",
    "ihomo = (mol.nocc - 1) * 2\n",
    "ilumo = mol.nocc * 2"
   ]
  },
  {
   "cell_type": "code",
   "execution_count": null,
   "id": "0b94c74b",
   "metadata": {},
   "outputs": [],
   "source": [
    "fig_homo = mlab.figure()\n",
    "visualize_cube(mol, grid, mo_grid[ihomo], ORBITAL_ISOVALUES, ISOSURFACE_COLORS, fig_homo)\n",
    "# mlab.show()"
   ]
  },
  {
   "cell_type": "code",
   "execution_count": null,
   "id": "bc921a6e",
   "metadata": {},
   "outputs": [],
   "source": [
    "fig_lumo = mlab.figure()\n",
    "visualize_cube(mol, grid, mo_grid[ilumo], ORBITAL_ISOVALUES, ISOSURFACE_COLORS, fig_lumo)"
   ]
  },
  {
   "cell_type": "code",
   "execution_count": 13,
   "id": "ede9db33",
   "metadata": {},
   "outputs": [],
   "source": [
    "ISTATE = 10"
   ]
  },
  {
   "cell_type": "code",
   "execution_count": 14,
   "id": "9426b7ea",
   "metadata": {},
   "outputs": [],
   "source": [
    "td_grid = np.zeros((NX, NY, NZ))\n",
    "for (exc, c_ia) in zip(mol.excitations, mol.cis_states[:, ISTATE]):\n",
    "    i, a = exc\n",
    "    if (i % 2) == (a % 2):\n",
    "        td_grid += c_ia * mo_grid[i] * mo_grid[a]"
   ]
  },
  {
   "cell_type": "code",
   "execution_count": 15,
   "id": "a7fdbc27",
   "metadata": {},
   "outputs": [
    {
     "data": {
      "application/vnd.jupyter.widget-view+json": {
       "model_id": "e565a71d22a4440ebbc8f392377d7064",
       "version_major": 2,
       "version_minor": 0
      },
      "text/plain": [
       "Image(value=b'\\x89PNG\\r\\n\\x1a\\n\\x00\\x00\\x00\\rIHDR\\x00\\x00\\x01\\x90\\x00\\x00\\x01^\\x08\\x02\\x00\\x00\\x00$?\\xde_\\x00\\…"
      ]
     },
     "metadata": {},
     "output_type": "display_data"
    }
   ],
   "source": [
    "fig_td = mlab.figure()\n",
    "visualize_cube(mol, grid, td_grid, DENSITY_ISOVALUES, ISOSURFACE_COLORS, fig_td)\n",
    "# mlab.show()"
   ]
  },
  {
   "cell_type": "code",
   "execution_count": null,
   "id": "0ca82e9d",
   "metadata": {},
   "outputs": [],
   "source": []
  },
  {
   "cell_type": "code",
   "execution_count": null,
   "id": "8eadc3c9",
   "metadata": {},
   "outputs": [],
   "source": []
  }
 ],
 "metadata": {
  "kernelspec": {
   "display_name": "Python 3 (ipykernel)",
   "language": "python",
   "name": "python3"
  },
  "language_info": {
   "codemirror_mode": {
    "name": "ipython",
    "version": 3
   },
   "file_extension": ".py",
   "mimetype": "text/x-python",
   "name": "python",
   "nbconvert_exporter": "python",
   "pygments_lexer": "ipython3",
   "version": "3.10.0"
  }
 },
 "nbformat": 4,
 "nbformat_minor": 5
}
