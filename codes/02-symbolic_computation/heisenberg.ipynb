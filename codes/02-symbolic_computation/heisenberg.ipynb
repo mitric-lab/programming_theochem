{
 "cells": [
  {
   "cell_type": "markdown",
   "id": "12b879cb",
   "metadata": {},
   "source": [
    "## Heisenberg'sche Unschärferelation am Beispiel von Teilchen im Kasten"
   ]
  },
  {
   "cell_type": "markdown",
   "id": "9d5888fb",
   "metadata": {},
   "source": [
    "### Aufgabe\n",
    "Bestimmen Sie die Varianz und Standardabweichung für den Ort ($x$) und den Impuls ($p$) des Teilchens im Kasten mit einer Kastenlänge von $a$. Überlegen Sie, wie man hieraus die Heisenbergsche Unschärferelation erhalten kann."
   ]
  },
  {
   "cell_type": "markdown",
   "id": "41c5dea9",
   "metadata": {},
   "source": [
    "$$\\psi_n = N \\cdot \\sin \\left( \\frac{n \\pi}{a} x \\right);\\quad n \\in \\mathbb{N}$$\n",
    "$$\\sigma_A^2 = \\langle A^2 \\rangle - \\langle A \\rangle^2$$"
   ]
  },
  {
   "cell_type": "code",
   "execution_count": 1,
   "id": "f4e51a82",
   "metadata": {},
   "outputs": [],
   "source": [
    "import sympy as sp\n",
    "from sympy.physics.quantum.constants import hbar\n",
    "\n",
    "x, a, n, N = sp.symbols('x a n N')"
   ]
  },
  {
   "cell_type": "markdown",
   "id": "3f118fab",
   "metadata": {},
   "source": [
    "**(a) Definieren Sie eine Funktion, die die Integrale für diese Aufgabe mit korrekten Grenzen ausführt.**"
   ]
  },
  {
   "cell_type": "code",
   "execution_count": null,
   "id": "cbd5dddb",
   "metadata": {},
   "outputs": [],
   "source": []
  },
  {
   "cell_type": "markdown",
   "id": "4dd5cbeb",
   "metadata": {},
   "source": [
    "**(b) Bestimmen Sie $N$.**"
   ]
  },
  {
   "cell_type": "code",
   "execution_count": null,
   "id": "e4b09e68",
   "metadata": {},
   "outputs": [],
   "source": []
  },
  {
   "cell_type": "markdown",
   "id": "a84a1798",
   "metadata": {},
   "source": [
    "**(c) Definieren Sie die Wellenfunktion $\\psi_n$.**"
   ]
  },
  {
   "cell_type": "code",
   "execution_count": null,
   "id": "8fd2efb0",
   "metadata": {},
   "outputs": [],
   "source": []
  },
  {
   "cell_type": "markdown",
   "id": "b0ec8fa4",
   "metadata": {},
   "source": [
    "**(d) Bestimmen Sie $\\sigma_x$.**"
   ]
  },
  {
   "cell_type": "code",
   "execution_count": null,
   "id": "200f14ab",
   "metadata": {},
   "outputs": [],
   "source": []
  },
  {
   "cell_type": "markdown",
   "id": "432ee6b7",
   "metadata": {},
   "source": [
    "**(e) Bestimmen Sie $\\sigma_p$.**"
   ]
  },
  {
   "cell_type": "code",
   "execution_count": null,
   "id": "42759891",
   "metadata": {},
   "outputs": [],
   "source": []
  },
  {
   "cell_type": "markdown",
   "id": "cb7bd759",
   "metadata": {},
   "source": [
    "**(f) Bestimmen Sie das Produkt $\\sigma_x \\cdot \\sigma_p$.**"
   ]
  },
  {
   "cell_type": "code",
   "execution_count": null,
   "id": "5f5efe8f",
   "metadata": {},
   "outputs": [],
   "source": []
  }
 ],
 "metadata": {
  "kernelspec": {
   "display_name": "Python 3 (ipykernel)",
   "language": "python",
   "name": "python3"
  },
  "language_info": {
   "codemirror_mode": {
    "name": "ipython",
    "version": 3
   },
   "file_extension": ".py",
   "mimetype": "text/x-python",
   "name": "python",
   "nbconvert_exporter": "python",
   "pygments_lexer": "ipython3",
   "version": "3.8.12"
  }
 },
 "nbformat": 4,
 "nbformat_minor": 5
}
