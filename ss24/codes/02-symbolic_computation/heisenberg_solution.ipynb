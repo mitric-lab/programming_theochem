{
 "cells": [
  {
   "cell_type": "markdown",
   "id": "12b879cb",
   "metadata": {},
   "source": [
    "## Heisenberg'sche Unschärferelation am Beispiel von Teilchen im Kasten"
   ]
  },
  {
   "cell_type": "raw",
   "id": "941fa227",
   "metadata": {},
   "source": []
  },
  {
   "cell_type": "markdown",
   "id": "9d5888fb",
   "metadata": {},
   "source": [
    "### Aufgabe\n",
    "Bestimmen Sie die Varianz und Standardabweichung für den Ort ($x$) und den Impuls ($p$) des Teilchens im Kasten mit einer Kastenlänge von $a$. Überlegen Sie, wie man hieraus die Heisenbergsche Unschärferelation erhalten kann."
   ]
  },
  {
   "cell_type": "markdown",
   "id": "41c5dea9",
   "metadata": {},
   "source": [
    "$$\\psi_n = N \\cdot \\sin \\left( \\frac{n \\pi}{a} x \\right);\\quad n \\in \\mathbb{N}$$\n",
    "$$\\sigma_A^2 = \\langle A^2 \\rangle - \\langle A \\rangle^2$$"
   ]
  },
  {
   "cell_type": "code",
   "execution_count": 1,
   "id": "f4e51a82",
   "metadata": {},
   "outputs": [],
   "source": [
    "import sympy as sp\n",
    "from sympy.physics.quantum.constants import hbar\n",
    "\n",
    "x, N = sp.symbols('x N')\n",
    "a = sp.Symbol('a', positive=True)\n",
    "n = sp.Symbol('n', integer=True, positive=True)"
   ]
  },
  {
   "cell_type": "markdown",
   "id": "3f118fab",
   "metadata": {},
   "source": [
    "**(a) Definieren Sie eine Funktion, die die Integrale für diese Aufgabe mit korrekten Grenzen ausführt.**"
   ]
  },
  {
   "cell_type": "code",
   "execution_count": 2,
   "id": "cbd5dddb",
   "metadata": {},
   "outputs": [],
   "source": [
    "def integrate(expr):\n",
    "    return sp.integrate(expr, (x, 0, a))"
   ]
  },
  {
   "cell_type": "markdown",
   "id": "4dd5cbeb",
   "metadata": {},
   "source": [
    "**(b) Bestimmen Sie $N$.**"
   ]
  },
  {
   "cell_type": "code",
   "execution_count": 3,
   "id": "e4b09e68",
   "metadata": {},
   "outputs": [
    {
     "data": {
      "text/latex": [
       "$\\displaystyle \\frac{N^{2} a}{2}$"
      ],
      "text/plain": [
       "N**2*a/2"
      ]
     },
     "execution_count": 3,
     "metadata": {},
     "output_type": "execute_result"
    }
   ],
   "source": [
    "wf = N * sp.sin((n*sp.pi/a) * x)\n",
    "norm = integrate(wf**2)\n",
    "norm"
   ]
  },
  {
   "cell_type": "code",
   "execution_count": 4,
   "id": "56a8adb2",
   "metadata": {},
   "outputs": [
    {
     "data": {
      "text/latex": [
       "$\\displaystyle \\frac{\\sqrt{2}}{\\sqrt{a}}$"
      ],
      "text/plain": [
       "sqrt(2)/sqrt(a)"
      ]
     },
     "execution_count": 4,
     "metadata": {},
     "output_type": "execute_result"
    }
   ],
   "source": [
    "N_e = sp.solve(sp.Eq(norm, 1), N)[1]\n",
    "N_e"
   ]
  },
  {
   "cell_type": "markdown",
   "id": "a84a1798",
   "metadata": {},
   "source": [
    "**(c) Definieren Sie die Wellenfunktion $\\psi_n$.**"
   ]
  },
  {
   "cell_type": "code",
   "execution_count": 5,
   "id": "8fd2efb0",
   "metadata": {},
   "outputs": [
    {
     "data": {
      "text/latex": [
       "$\\displaystyle \\frac{\\sqrt{2} \\sin{\\left(\\frac{\\pi n x}{a} \\right)}}{\\sqrt{a}}$"
      ],
      "text/plain": [
       "sqrt(2)*sin(pi*n*x/a)/sqrt(a)"
      ]
     },
     "execution_count": 5,
     "metadata": {},
     "output_type": "execute_result"
    }
   ],
   "source": [
    "psi = N_e * sp.sin((n*sp.pi/a) * x)\n",
    "psi"
   ]
  },
  {
   "cell_type": "markdown",
   "id": "b0ec8fa4",
   "metadata": {},
   "source": [
    "**(d) Bestimmen Sie $\\sigma_x$.**"
   ]
  },
  {
   "cell_type": "code",
   "execution_count": 6,
   "id": "200f14ab",
   "metadata": {},
   "outputs": [
    {
     "data": {
      "text/latex": [
       "$\\displaystyle \\frac{a}{2}$"
      ],
      "text/plain": [
       "a/2"
      ]
     },
     "execution_count": 6,
     "metadata": {},
     "output_type": "execute_result"
    }
   ],
   "source": [
    "x_mean = integrate(sp.conjugate(psi) * x * psi)\n",
    "x_mean = sp.simplify(x_mean)\n",
    "x_mean"
   ]
  },
  {
   "cell_type": "code",
   "execution_count": 7,
   "id": "152cc92b",
   "metadata": {},
   "outputs": [
    {
     "data": {
      "text/latex": [
       "$\\displaystyle \\frac{a^{2}}{3} - \\frac{a^{2}}{2 \\pi^{2} n^{2}}$"
      ],
      "text/plain": [
       "a**2/3 - a**2/(2*pi**2*n**2)"
      ]
     },
     "execution_count": 7,
     "metadata": {},
     "output_type": "execute_result"
    }
   ],
   "source": [
    "x_rms = integrate(sp.conjugate(psi) * x**2 * psi)\n",
    "x_rms = sp.simplify(x_rms)\n",
    "x_rms"
   ]
  },
  {
   "cell_type": "code",
   "execution_count": 8,
   "id": "9ef21ac5",
   "metadata": {},
   "outputs": [
    {
     "data": {
      "text/latex": [
       "$\\displaystyle \\sqrt{\\frac{a^{2}}{12} - \\frac{a^{2}}{2 \\pi^{2} n^{2}}}$"
      ],
      "text/plain": [
       "sqrt(a**2/12 - a**2/(2*pi**2*n**2))"
      ]
     },
     "execution_count": 8,
     "metadata": {},
     "output_type": "execute_result"
    }
   ],
   "source": [
    "var_x = x_rms - x_mean**2\n",
    "sigma_x = sp.sqrt(var_x)\n",
    "sigma_x"
   ]
  },
  {
   "cell_type": "markdown",
   "id": "432ee6b7",
   "metadata": {},
   "source": [
    "**(e) Bestimmen Sie $\\sigma_p$.**"
   ]
  },
  {
   "cell_type": "code",
   "execution_count": 9,
   "id": "42759891",
   "metadata": {},
   "outputs": [
    {
     "data": {
      "text/latex": [
       "$\\displaystyle 0$"
      ],
      "text/plain": [
       "0"
      ]
     },
     "execution_count": 9,
     "metadata": {},
     "output_type": "execute_result"
    }
   ],
   "source": [
    "p_mean = integrate(sp.conjugate(psi) * (-sp.I*hbar) * sp.diff(psi, x))\n",
    "p_mean = sp.simplify(p_mean)\n",
    "p_mean"
   ]
  },
  {
   "cell_type": "code",
   "execution_count": 10,
   "id": "6bd748e7",
   "metadata": {},
   "outputs": [
    {
     "data": {
      "text/latex": [
       "$\\displaystyle \\frac{\\hbar^{2} \\pi^{2} n^{2}}{a^{2}}$"
      ],
      "text/plain": [
       "hbar**2*pi**2*n**2/a**2"
      ]
     },
     "execution_count": 10,
     "metadata": {},
     "output_type": "execute_result"
    }
   ],
   "source": [
    "p_rms = integrate(sp.conjugate(psi) * (-sp.I*hbar)**2 * sp.diff(psi, x, x))\n",
    "p_rms = sp.simplify(p_rms)\n",
    "p_rms"
   ]
  },
  {
   "cell_type": "code",
   "execution_count": 11,
   "id": "349ad2d4",
   "metadata": {},
   "outputs": [
    {
     "data": {
      "text/latex": [
       "$\\displaystyle \\frac{\\hbar \\pi n}{a}$"
      ],
      "text/plain": [
       "hbar*pi*n/a"
      ]
     },
     "execution_count": 11,
     "metadata": {},
     "output_type": "execute_result"
    }
   ],
   "source": [
    "var_p = p_rms - p_mean**2\n",
    "sigma_p = sp.sqrt(var_p)\n",
    "sigma_p"
   ]
  },
  {
   "cell_type": "markdown",
   "id": "cb7bd759",
   "metadata": {},
   "source": [
    "**(f) Bestimmen Sie das Produkt $\\sigma_x \\cdot \\sigma_p$.**"
   ]
  },
  {
   "cell_type": "code",
   "execution_count": 12,
   "id": "5f5efe8f",
   "metadata": {},
   "outputs": [
    {
     "data": {
      "text/latex": [
       "$\\displaystyle \\frac{\\hbar \\sqrt{3 \\pi^{2} n^{2} - 18}}{6}$"
      ],
      "text/plain": [
       "hbar*sqrt(3*pi**2*n**2 - 18)/6"
      ]
     },
     "execution_count": 12,
     "metadata": {},
     "output_type": "execute_result"
    }
   ],
   "source": [
    "prod = sigma_x * sigma_p\n",
    "prod = sp.simplify(prod)\n",
    "prod"
   ]
  },
  {
   "cell_type": "code",
   "execution_count": 13,
   "id": "abcdb67e",
   "metadata": {},
   "outputs": [
    {
     "data": {
      "text/latex": [
       "$\\displaystyle \\frac{\\hbar \\sqrt{-18 + 3 \\pi^{2}}}{6}$"
      ],
      "text/plain": [
       "hbar*sqrt(-18 + 3*pi**2)/6"
      ]
     },
     "execution_count": 13,
     "metadata": {},
     "output_type": "execute_result"
    }
   ],
   "source": [
    "prod.subs(n, 1)"
   ]
  },
  {
   "cell_type": "code",
   "execution_count": 14,
   "id": "bda3ed49",
   "metadata": {},
   "outputs": [
    {
     "data": {
      "text/latex": [
       "$\\displaystyle 0.567861808386612$"
      ],
      "text/plain": [
       "0.567861808386612"
      ]
     },
     "execution_count": 14,
     "metadata": {},
     "output_type": "execute_result"
    }
   ],
   "source": [
    "(prod.subs(n, 1) / hbar).evalf()"
   ]
  },
  {
   "cell_type": "code",
   "execution_count": 15,
   "id": "b8f476a6",
   "metadata": {
    "scrolled": true
   },
   "outputs": [],
   "source": [
    "uncertainty = sp.lambdify(n, prod/hbar)"
   ]
  },
  {
   "cell_type": "code",
   "execution_count": 16,
   "id": "e02fb47b",
   "metadata": {},
   "outputs": [
    {
     "data": {
      "text/plain": [
       "<matplotlib.collections.PathCollection at 0x7f78a97d7640>"
      ]
     },
     "execution_count": 16,
     "metadata": {},
     "output_type": "execute_result"
    },
    {
     "data": {
      "image/png": "[encoded data removed]",
      "text/plain": [
       "<Figure size 432x288 with 1 Axes>"
      ]
     },
     "metadata": {
      "needs_background": "light"
     },
     "output_type": "display_data"
    }
   ],
   "source": [
    "import numpy as np\n",
    "import matplotlib.pyplot as plt\n",
    "\n",
    "n_range = np.arange(1, 10)\n",
    "plt.scatter(n_range, uncertainty(n_range))"
   ]
  },
  {
   "cell_type": "code",
   "execution_count": null,
   "id": "9827788e",
   "metadata": {},
   "outputs": [],
   "source": []
  }
 ],
 "metadata": {
  "kernelspec": {
   "display_name": "Python 3 (ipykernel)",
   "language": "python",
   "name": "python3"
  },
  "language_info": {
   "codemirror_mode": {
    "name": "ipython",
    "version": 3
   },
   "file_extension": ".py",
   "mimetype": "text/x-python",
   "name": "python",
   "nbconvert_exporter": "python",
   "pygments_lexer": "ipython3",
   "version": "3.8.12"
  }
 },
 "nbformat": 4,
 "nbformat_minor": 5
}
