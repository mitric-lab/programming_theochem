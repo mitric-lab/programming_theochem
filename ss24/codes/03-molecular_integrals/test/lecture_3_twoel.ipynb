{
 "cells": [
  {
   "cell_type": "code",
   "execution_count": 1,
   "id": "9e7fbdac",
   "metadata": {},
   "outputs": [],
   "source": [
    "\n",
    "from sympy import *"
   ]
  },
  {
   "cell_type": "code",
   "execution_count": 2,
   "id": "18861138",
   "metadata": {},
   "outputs": [],
   "source": [
    "x, y, z = symbols('x y z', real = True)\n",
    "Ax, Ay, Az = symbols('Ax Ay Az', real = True)\n",
    "Bx, By, Bz = symbols('Bx By Bz', real = True)\n",
    "alpha, beta = symbols('alpha beta', real = True, positive = True)"
   ]
  },
  {
   "cell_type": "code",
   "execution_count": 3,
   "id": "41286eed",
   "metadata": {},
   "outputs": [
    {
     "name": "stdout",
     "output_type": "stream",
     "text": [
      "exp(-alpha*(-Ax + x)**2) exp(-alpha*(Ax - x)**2)\n",
      "(-Ax + x)*exp(-alpha*(-Ax + x)**2) -2*alpha*(Ax - x)*exp(-alpha*(Ax - x)**2)\n"
     ]
    }
   ],
   "source": [
    "Lmax = 2\n",
    "\n",
    "Gauss = Matrix([(x-Ax)**n * exp(-alpha*(x-Ax)**2) for n in range(Lmax)])\n",
    "Hermite = Matrix([simplify(diff(exp(-alpha*(x-Ax)**2), Ax, n)) for n in range(Lmax)])\n",
    "for g,h in zip(Gauss,Hermite):\n",
    "    print(g,h)"
   ]
  },
  {
   "cell_type": "code",
   "execution_count": 4,
   "id": "a2a846d8",
   "metadata": {},
   "outputs": [],
   "source": [
    "from functools import lru_cache\n",
    "\n",
    "@lru_cache(maxsize = None)\n",
    "def getCkn(k,n,expo):\n",
    "    if k==0==n :\n",
    "        return sympify(1)\n",
    "    if (k == 0) and (n == 1):\n",
    "        return sympify(0)\n",
    "    if (k ==1 ) and (n == 1):\n",
    "        return (1 / (2 * expo))\n",
    "    if (k > n): \n",
    "        return sympify (0)\n",
    "    if (k < 0):\n",
    "        return sympify (0)\n",
    "    else:\n",
    "        return (1 / (2 * expo))* getCkn(k-1,n-1, expo) + (k + 1) * getCkn(k+1, n-1, expo)\n",
    "Lmax = 10      \n",
    "coefs = Matrix([getCkn(k, Lmax, alpha) for k in range(Lmax)])\n"
   ]
  },
  {
   "cell_type": "code",
   "execution_count": 5,
   "id": "03c1e85a",
   "metadata": {},
   "outputs": [
    {
     "data": {
      "text/latex": [
       "$\\displaystyle \\frac{\\sqrt{\\pi} e^{\\alpha \\left(- Ax^{2} + 2 Ax Bx - Bx^{2} + \\frac{\\alpha \\left(Ax - Bx\\right)^{2}}{\\alpha + \\beta}\\right)}}{\\sqrt{\\alpha + \\beta}}$"
      ],
      "text/plain": [
       "sqrt(pi)*exp(alpha*(-Ax**2 + 2*Ax*Bx - Bx**2 + alpha*(Ax - Bx)**2/(alpha + beta)))/sqrt(alpha + beta)"
      ]
     },
     "execution_count": 5,
     "metadata": {},
     "output_type": "execute_result"
    }
   ],
   "source": [
    "g1 = exp(-alpha * (x-Ax)**2)\n",
    "g2 = exp(-beta * (x-Bx)**2)\n",
    "S00 = simplify(integrate (g1*g2,(x,-oo,+oo)))\n",
    "S00"
   ]
  },
  {
   "cell_type": "code",
   "execution_count": 6,
   "id": "5f4843f1",
   "metadata": {},
   "outputs": [],
   "source": [
    "Lmax = 3\n",
    "derivatives = {(0,0): S00}\n",
    "for k in range(Lmax + 1 ):\n",
    "    derivatives[k+1,0] = diff(derivatives[k,0], Ax)\n",
    "    for l in range(Lmax +1):\n",
    "        derivatives[k,l+1] = diff(derivatives[k,l], Bx)\n",
    "\n",
    "def getSij(i,j):\n",
    "    Overlap = sympify(0)\n",
    "    for k in range(i+1):\n",
    "        for l in range(j+1):\n",
    "            Overlap += getCkn(k,i,alpha)*getCkn(l,j,beta)*derivatives[k,l] # diff(diff(S00,(Ax,k)),(Bx,l))\n",
    "    Overlap = factor_terms(Overlap)\n",
    "    return Overlap"
   ]
  },
  {
   "cell_type": "code",
   "execution_count": 7,
   "id": "9f4b9ac1",
   "metadata": {},
   "outputs": [
    {
     "data": {
      "text/latex": [
       "$\\displaystyle \\frac{\\sqrt{\\pi} \\left(2 \\alpha \\left(- Ax + Bx + \\frac{\\alpha \\left(Ax - Bx\\right)}{\\alpha + \\beta}\\right) \\left(Ax - Bx + \\frac{\\alpha \\left(- Ax + Bx\\right)}{\\alpha + \\beta}\\right) - \\frac{\\alpha}{\\alpha + \\beta} + 1\\right) e^{\\alpha \\left(- Ax^{2} + 2 Ax Bx - Bx^{2} + \\frac{\\alpha \\left(Ax - Bx\\right)^{2}}{\\alpha + \\beta}\\right)}}{2 \\beta \\sqrt{\\alpha + \\beta}}$"
      ],
      "text/plain": [
       "sqrt(pi)*(2*alpha*(-Ax + Bx + alpha*(Ax - Bx)/(alpha + beta))*(Ax - Bx + alpha*(-Ax + Bx)/(alpha + beta)) - alpha/(alpha + beta) + 1)*exp(alpha*(-Ax**2 + 2*Ax*Bx - Bx**2 + alpha*(Ax - Bx)**2/(alpha + beta)))/(2*beta*sqrt(alpha + beta))"
      ]
     },
     "execution_count": 7,
     "metadata": {},
     "output_type": "execute_result"
    }
   ],
   "source": [
    "getSij(1,1)"
   ]
  },
  {
   "cell_type": "code",
   "execution_count": 8,
   "id": "48ec71c7",
   "metadata": {},
   "outputs": [],
   "source": [
    "AB_sum, AB_diff, AB_diff_squared, AB_product = symbols('AB_sum AB_diff AB_diff_squared AB_product', real = True)\n",
    "\n",
    "subsdict = {alpha+beta : AB_sum,\n",
    "           Ax**2-2*Ax*Bx+Bx**2: AB_diff_squared,\n",
    "           Ax-Bx : AB_diff,\n",
    "           alpha*beta : AB_product}\n",
    "def generateSij(Lmax):\n",
    "    Sij = {}\n",
    "    for i in range(Lmax+1):\n",
    "        for j in range(Lmax+1):\n",
    "            overlap = getSij(i,j)\n",
    "            overlap = overlap.subs(subsdict)\n",
    "            Sij[(i,j)] = overlap\n",
    "    return Sij"
   ]
  },
  {
   "cell_type": "code",
   "execution_count": 9,
   "id": "5ed6ea7c",
   "metadata": {},
   "outputs": [
    {
     "name": "stdout",
     "output_type": "stream",
     "text": [
      "(0, 0) sqrt(pi)*exp(alpha*(AB_diff**2*alpha/AB_sum - AB_diff_squared))/sqrt(AB_sum)\n",
      "(0, 1) sqrt(pi)*alpha*(AB_diff - AB_diff*alpha/AB_sum)*exp(alpha*(AB_diff**2*alpha/AB_sum - AB_diff_squared))/(sqrt(AB_sum)*beta)\n",
      "(0, 2) sqrt(pi)*(alpha*(2*alpha*(AB_diff - AB_diff*alpha/AB_sum)**2 - 1 + alpha/AB_sum)/beta + 1)*exp(alpha*(AB_diff**2*alpha/AB_sum - AB_diff_squared))/(2*sqrt(AB_sum)*beta)\n",
      "(0, 3) sqrt(pi)*alpha*(AB_diff - AB_diff*alpha/AB_sum)*(alpha*(2*alpha*(AB_diff - AB_diff*alpha/AB_sum)**2 - 3 + 3*alpha/AB_sum)/beta + 3)*exp(alpha*(AB_diff**2*alpha/AB_sum - AB_diff_squared))/(2*sqrt(AB_sum)*beta**2)\n",
      "(1, 0) sqrt(pi)*(-AB_diff + AB_diff*alpha/AB_sum)*exp(alpha*(AB_diff**2*alpha/AB_sum - AB_diff_squared))/sqrt(AB_sum)\n",
      "(1, 1) sqrt(pi)*(2*alpha*(-AB_diff + AB_diff*alpha/AB_sum)*(AB_diff - AB_diff*alpha/AB_sum) + 1 - alpha/AB_sum)*exp(alpha*(AB_diff**2*alpha/AB_sum - AB_diff_squared))/(2*sqrt(AB_sum)*beta)\n",
      "(1, 2) sqrt(pi)*(-AB_diff + AB_diff*alpha/AB_sum + alpha*(2*alpha*(-AB_diff + AB_diff*alpha/AB_sum)*(AB_diff - AB_diff*alpha/AB_sum)**2 + (-1 + alpha/AB_sum)*(-AB_diff + AB_diff*alpha/AB_sum) + 2*(1 - alpha/AB_sum)*(AB_diff - AB_diff*alpha/AB_sum))/beta)*exp(alpha*(AB_diff**2*alpha/AB_sum - AB_diff_squared))/(2*sqrt(AB_sum)*beta)\n",
      "(1, 3) sqrt(pi)*(6*alpha*(-AB_diff + AB_diff*alpha/AB_sum)*(AB_diff - AB_diff*alpha/AB_sum) + alpha*(4*alpha**2*(-AB_diff + AB_diff*alpha/AB_sum)*(AB_diff - AB_diff*alpha/AB_sum)**3 + 6*alpha*(-1 + alpha/AB_sum)*(-AB_diff + AB_diff*alpha/AB_sum)*(AB_diff - AB_diff*alpha/AB_sum) + 6*alpha*(1 - alpha/AB_sum)*(AB_diff - AB_diff*alpha/AB_sum)**2 + 3*(-1 + alpha/AB_sum)*(1 - alpha/AB_sum))/beta + 3 - 3*alpha/AB_sum)*exp(alpha*(AB_diff**2*alpha/AB_sum - AB_diff_squared))/(4*sqrt(AB_sum)*beta**2)\n",
      "(2, 0) sqrt(pi)*(2*alpha*(-AB_diff + AB_diff*alpha/AB_sum)**2 + alpha/AB_sum)*exp(alpha*(AB_diff**2*alpha/AB_sum - AB_diff_squared))/(2*sqrt(AB_sum)*alpha)\n",
      "(2, 1) sqrt(pi)*(AB_diff - AB_diff*alpha/AB_sum + 2*alpha*(-AB_diff + AB_diff*alpha/AB_sum)**2*(AB_diff - AB_diff*alpha/AB_sum) + (-1 + alpha/AB_sum)*(AB_diff - AB_diff*alpha/AB_sum) + 2*(1 - alpha/AB_sum)*(-AB_diff + AB_diff*alpha/AB_sum))*exp(alpha*(AB_diff**2*alpha/AB_sum - AB_diff_squared))/(2*sqrt(AB_sum)*beta)\n",
      "(2, 2) sqrt(pi)*((2*alpha*(AB_diff - AB_diff*alpha/AB_sum)**2 - 1 + alpha/AB_sum)/beta + (4*alpha**2*(-AB_diff + AB_diff*alpha/AB_sum)**2*(AB_diff - AB_diff*alpha/AB_sum)**2 + 2*alpha*(-1 + alpha/AB_sum)*(-AB_diff + AB_diff*alpha/AB_sum)**2 + 2*alpha*(-1 + alpha/AB_sum)*(AB_diff - AB_diff*alpha/AB_sum)**2 + 8*alpha*(1 - alpha/AB_sum)*(-AB_diff + AB_diff*alpha/AB_sum)*(AB_diff - AB_diff*alpha/AB_sum) + (-1 + alpha/AB_sum)**2 + 2*(1 - alpha/AB_sum)**2)/beta + (2*alpha*(-AB_diff + AB_diff*alpha/AB_sum)**2 - 1 + alpha/AB_sum)/alpha + 1/alpha)*exp(alpha*(AB_diff**2*alpha/AB_sum - AB_diff_squared))/(4*sqrt(AB_sum)*beta)\n",
      "(2, 3) sqrt(pi)*(-3*AB_diff*alpha/AB_sum + 3*Ax - 3*Bx + 6*alpha*(-AB_diff + AB_diff*alpha/AB_sum)**2*(AB_diff - AB_diff*alpha/AB_sum) + alpha*(AB_diff - AB_diff*alpha/AB_sum)*(2*alpha*(AB_diff - AB_diff*alpha/AB_sum)**2 - 3 + 3*alpha/AB_sum)/beta + alpha*(4*alpha**2*(-AB_diff + AB_diff*alpha/AB_sum)**2*(AB_diff - AB_diff*alpha/AB_sum)**3 + 6*alpha*(-1 + alpha/AB_sum)*(-AB_diff + AB_diff*alpha/AB_sum)**2*(AB_diff - AB_diff*alpha/AB_sum) + 2*alpha*(-1 + alpha/AB_sum)*(AB_diff - AB_diff*alpha/AB_sum)**3 + 12*alpha*(1 - alpha/AB_sum)*(-AB_diff + AB_diff*alpha/AB_sum)*(AB_diff - AB_diff*alpha/AB_sum)**2 + 3*(-1 + alpha/AB_sum)**2*(AB_diff - AB_diff*alpha/AB_sum) + 6*(-1 + alpha/AB_sum)*(1 - alpha/AB_sum)*(-AB_diff + AB_diff*alpha/AB_sum) + 6*(1 - alpha/AB_sum)**2*(AB_diff - AB_diff*alpha/AB_sum))/beta + 3*(-1 + alpha/AB_sum)*(AB_diff - AB_diff*alpha/AB_sum) + 6*(1 - alpha/AB_sum)*(-AB_diff + AB_diff*alpha/AB_sum))*exp(alpha*(AB_diff**2*alpha/AB_sum - AB_diff_squared))/(4*sqrt(AB_sum)*beta**2)\n",
      "(3, 0) sqrt(pi)*(-AB_diff + AB_diff*alpha/AB_sum)*(2*alpha*(-AB_diff + AB_diff*alpha/AB_sum)**2 + 3*alpha/AB_sum)*exp(alpha*(AB_diff**2*alpha/AB_sum - AB_diff_squared))/(2*sqrt(AB_sum)*alpha)\n",
      "(3, 1) sqrt(pi)*(4*alpha**2*(-AB_diff + AB_diff*alpha/AB_sum)**3*(AB_diff - AB_diff*alpha/AB_sum) + 6*alpha*(-1 + alpha/AB_sum)*(-AB_diff + AB_diff*alpha/AB_sum)*(AB_diff - AB_diff*alpha/AB_sum) + 6*alpha*(1 - alpha/AB_sum)*(-AB_diff + AB_diff*alpha/AB_sum)**2 + 6*alpha*(-AB_diff + AB_diff*alpha/AB_sum)*(AB_diff - AB_diff*alpha/AB_sum) + 3*(-1 + alpha/AB_sum)*(1 - alpha/AB_sum) + 3 - 3*alpha/AB_sum)*exp(alpha*(AB_diff**2*alpha/AB_sum - AB_diff_squared))/(4*AB_product*sqrt(AB_sum))\n",
      "(3, 2) sqrt(pi)*((6*alpha*(-AB_diff + AB_diff*alpha/AB_sum)*(AB_diff - AB_diff*alpha/AB_sum)**2 + 3*(-1 + alpha/AB_sum)*(-AB_diff + AB_diff*alpha/AB_sum) + 6*(1 - alpha/AB_sum)*(AB_diff - AB_diff*alpha/AB_sum))/beta + (4*alpha**2*(-AB_diff + AB_diff*alpha/AB_sum)**3*(AB_diff - AB_diff*alpha/AB_sum)**2 + 2*alpha*(-1 + alpha/AB_sum)*(-AB_diff + AB_diff*alpha/AB_sum)**3 + 6*alpha*(-1 + alpha/AB_sum)*(-AB_diff + AB_diff*alpha/AB_sum)*(AB_diff - AB_diff*alpha/AB_sum)**2 + 12*alpha*(1 - alpha/AB_sum)*(-AB_diff + AB_diff*alpha/AB_sum)**2*(AB_diff - AB_diff*alpha/AB_sum) + 3*(-1 + alpha/AB_sum)**2*(-AB_diff + AB_diff*alpha/AB_sum) + 6*(-1 + alpha/AB_sum)*(1 - alpha/AB_sum)*(AB_diff - AB_diff*alpha/AB_sum) + 6*(1 - alpha/AB_sum)**2*(-AB_diff + AB_diff*alpha/AB_sum))/beta + (-3*AB_diff + 3*AB_diff*alpha/AB_sum)/alpha + (-AB_diff + AB_diff*alpha/AB_sum)*(2*alpha*(-AB_diff + AB_diff*alpha/AB_sum)**2 - 3 + 3*alpha/AB_sum)/alpha)*exp(alpha*(AB_diff**2*alpha/AB_sum - AB_diff_squared))/(4*sqrt(AB_sum)*beta)\n",
      "(3, 3) sqrt(pi)*((12*alpha**2*(-AB_diff + AB_diff*alpha/AB_sum)*(AB_diff - AB_diff*alpha/AB_sum)**3 + 18*alpha*(-1 + alpha/AB_sum)*(-AB_diff + AB_diff*alpha/AB_sum)*(AB_diff - AB_diff*alpha/AB_sum) + 18*alpha*(1 - alpha/AB_sum)*(AB_diff - AB_diff*alpha/AB_sum)**2 + 9*(-1 + alpha/AB_sum)*(1 - alpha/AB_sum))/beta + (8*alpha**3*(-AB_diff + AB_diff*alpha/AB_sum)**3*(AB_diff - AB_diff*alpha/AB_sum)**3 + 12*alpha**2*(-1 + alpha/AB_sum)*(-AB_diff + AB_diff*alpha/AB_sum)**3*(AB_diff - AB_diff*alpha/AB_sum) + 12*alpha**2*(-1 + alpha/AB_sum)*(-AB_diff + AB_diff*alpha/AB_sum)*(AB_diff - AB_diff*alpha/AB_sum)**3 + 36*alpha**2*(1 - alpha/AB_sum)*(-AB_diff + AB_diff*alpha/AB_sum)**2*(AB_diff - AB_diff*alpha/AB_sum)**2 + 18*alpha*(-1 + alpha/AB_sum)**2*(-AB_diff + AB_diff*alpha/AB_sum)*(AB_diff - AB_diff*alpha/AB_sum) + 18*alpha*(-1 + alpha/AB_sum)*(1 - alpha/AB_sum)*(-AB_diff + AB_diff*alpha/AB_sum)**2 + 18*alpha*(-1 + alpha/AB_sum)*(1 - alpha/AB_sum)*(AB_diff - AB_diff*alpha/AB_sum)**2 + 36*alpha*(1 - alpha/AB_sum)**2*(-AB_diff + AB_diff*alpha/AB_sum)*(AB_diff - AB_diff*alpha/AB_sum) + 9*(-1 + alpha/AB_sum)**2*(1 - alpha/AB_sum) + 6*(1 - alpha/AB_sum)**3)/beta + (18*alpha*(-AB_diff + AB_diff*alpha/AB_sum)*(AB_diff - AB_diff*alpha/AB_sum) + 9 - 9*alpha/AB_sum)/alpha + (12*alpha**2*(-AB_diff + AB_diff*alpha/AB_sum)**3*(AB_diff - AB_diff*alpha/AB_sum) + 18*alpha*(-1 + alpha/AB_sum)*(-AB_diff + AB_diff*alpha/AB_sum)*(AB_diff - AB_diff*alpha/AB_sum) + 18*alpha*(1 - alpha/AB_sum)*(-AB_diff + AB_diff*alpha/AB_sum)**2 + 9*(-1 + alpha/AB_sum)*(1 - alpha/AB_sum))/alpha)*exp(alpha*(AB_diff**2*alpha/AB_sum - AB_diff_squared))/(8*sqrt(AB_sum)*beta**2)\n"
     ]
    }
   ],
   "source": [
    "Sij = generateSij(3)\n",
    "for key,value in Sij.items():\n",
    "    print(key,value)"
   ]
  },
  {
   "cell_type": "code",
   "execution_count": 10,
   "id": "ca320d7f",
   "metadata": {},
   "outputs": [],
   "source": [
    "def write_Sij(Lmax, path = \"\"):\n",
    "    Sij = generateSij(Lmax)\n",
    "    \n",
    "    with open(path+\"S.py\", \"w\") as file:\n",
    "        file.write(\"from numpy import sqrt, exp, pi \\n\")\n",
    "        file.write(\"def Sij(i, j, alpha, beta, Ax, Bx):\\n\")\n",
    "        file.write(\"    AB_diff = Ax - Bx \\n\")\n",
    "        file.write(\"    AB_diff_squared = AB_diff**2 \\n\")\n",
    "        file.write(\"    AB_sum = alpha + beta \\n\")\n",
    "        file.write(\"    AB_product = alpha * beta \\n\")\n",
    "\n",
    "        for (key,value) in Sij.items():\n",
    "            file.write(\"    if (i,j) == ({}, {}): \\n\".format(str(key[0]),str(key[1])))\n",
    "            file.write(\"        return {}\\n\".format(str(value)))\n",
    "        "
   ]
  },
  {
   "cell_type": "code",
   "execution_count": 11,
   "id": "b20229dd",
   "metadata": {},
   "outputs": [],
   "source": [
    "write_Sij(3)"
   ]
  },
  {
   "cell_type": "code",
   "execution_count": 12,
   "id": "d431a5f6",
   "metadata": {},
   "outputs": [],
   "source": [
    "import numpy as np\n",
    "import S\n",
    "class gaussian:\n",
    "    def __init__(self, A, exps, coefs, ijk):\n",
    "        self.A = A\n",
    "        self.exps = exps\n",
    "        self.coefs = coefs\n",
    "        self.ijk = ijk\n",
    "        self.get_norm_constants()\n",
    "    \n",
    "    def setA(self, r):\n",
    "        self.A = r\n",
    "        \n",
    "    def get_norm_constants(self,):\n",
    "        self.norm_const = np.zeros(self.coefs.shape)\n",
    "        for i, alpha in enumerate(self.exps):\n",
    "                a = S.Sij(self.ijk[0], self.ijk[0], alpha, alpha, self.A[0], self.A[0])\n",
    "                b = S.Sij(self.ijk[1], self.ijk[1], alpha, alpha, self.A[1], self.A[1])\n",
    "                c = S.Sij(self.ijk[2], self.ijk[2], alpha, alpha, self.A[2], self.A[2])\n",
    "                self.norm_const[i] = 1./np.sqrt(a* b* c)\n",
    "            \n",
    "    def getS(self, other):\n",
    "        overlap = 0.0\n",
    "        for ca, alphaa, normi in zip (self.coefs, self.exps, self.norm_const):\n",
    "            for cb, alphab, normj in zip (other.coefs, other.exps, other.norm_const):\n",
    "                a = S.Sij(self.ijk[0], other.ijk[0], alphaa, alphab, self.A[0], other.A[0])\n",
    "                b = S.Sij(self.ijk[1], other.ijk[1], alphaa, alphab, self.A[1], other.A[1])\n",
    "                c = S.Sij(self.ijk[2], other.ijk[2], alphaa, alphab, self.A[2], other.A[2])\n",
    "                overlap += ca* cb* a * b * c * normi * normj\n",
    "        return overlap\n",
    "    \n",
    "    def __str__(self,):\n",
    "        string = ''.join([f\"------ Gaussian Function -------\\n\",\n",
    "                          f\"Center        =  {self.A} \\n\",\n",
    "                          f\"Exponents     =  {self.exps} \\n\",\n",
    "                          f\"Coefficients  =  {self.coefs} \\n\",\n",
    "                          f\"ijk           =  {self.ijk} \\n\"])\n",
    "        return string\n",
    "                \n"
   ]
  },
  {
   "cell_type": "code",
   "execution_count": 13,
   "id": "64d4a3fd",
   "metadata": {},
   "outputs": [],
   "source": [
    "s1 = gaussian(np.zeros(3), np.asarray([1.0, 0.5]), np.asarray([1.0, -1.0]), (0,0,1))\n",
    "s2 = gaussian(np.zeros(3), np.asarray([1.0]), np.asarray([1.0]), (0,0,1))\n",
    "zarray = np.linspace(0,10,100)\n",
    "overlapint = np.zeros(zarray.shape)\n",
    "for ind, z in enumerate(zarray):\n",
    "    A = np.asarray([0.0,0.0,z])\n",
    "    s2.setA(A)\n",
    "    overlapint[ind] = s1.getS(s2)\n"
   ]
  },
  {
   "cell_type": "code",
   "execution_count": 14,
   "id": "97315339",
   "metadata": {},
   "outputs": [
    {
     "data": {
      "text/plain": [
       "[<matplotlib.lines.Line2D at 0x7f941a901b10>]"
      ]
     },
     "execution_count": 14,
     "metadata": {},
     "output_type": "execute_result"
    },
    {
     "data": {
      "image/png": "[encoded data removed]",
      "text/plain": [
       "<Figure size 432x288 with 1 Axes>"
      ]
     },
     "metadata": {
      "needs_background": "light"
     },
     "output_type": "display_data"
    }
   ],
   "source": [
    "import matplotlib.pyplot as plt\n",
    "plt.plot(zarray, overlapint)"
   ]
  },
  {
   "cell_type": "code",
   "execution_count": 15,
   "id": "98b40f60",
   "metadata": {},
   "outputs": [],
   "source": [
    "import json\n",
    "from pprint import pprint"
   ]
  },
  {
   "cell_type": "code",
   "execution_count": 34,
   "id": "680d4ddb",
   "metadata": {},
   "outputs": [],
   "source": [
    "class basisSet:\n",
    "    def __init__(self, name = \"sto-3g\"):\n",
    "        self.name = name\n",
    "\n",
    "    def get(self, elementlist, path = \"\"):\n",
    "        basispath = path + self.name + \".json\"\n",
    "        self.basis_functions = {}\n",
    "        for element in elementlist:\n",
    "            self.basis_functions[element] = self.getBasisFunctions(element, basispath)\n",
    "\n",
    "    def getBasisFunctions(self, atnum, path):\n",
    "        ijk = {0: [(0,0,0)], 1: [(1,0,0), (0,1,0), (0,0,1)]}\n",
    "        basis_functions = []\n",
    "        try: \n",
    "            with open(path, \"r\") as f:\n",
    "                basis_data = json.load(f)\n",
    "        except FileNotFoundError: \n",
    "            print(\"Error: Basis set file not found!\")\n",
    "            return None\n",
    "\n",
    "        basis_function_data = basis_data['elements'][str(atnum)]['electron_shells']\n",
    "\n",
    "        for bfdata in basis_function_data:\n",
    "            exps = np.array([float(e) for e in bfdata['exponents']])\n",
    "            for ang_mom in bfdata['angular_momentum']:\n",
    "                coefs = np.array([float(e) for e in bfdata['coefficients'][ang_mom]])\n",
    "                for ikm in ijk[ang_mom]:\n",
    "                    basis_function = gaussian(np.zeros(3), exps, coefs, ikm)\n",
    "                    basis_functions.append(basis_function)\n",
    "        return basis_functions"
   ]
  },
  {
   "cell_type": "code",
   "execution_count": 35,
   "id": "d2e7dfa3",
   "metadata": {},
   "outputs": [],
   "source": [
    "class atom:\n",
    "    atomic_number = {\"H\": 1,\n",
    "                     \"C\": 6,\n",
    "                     \"N\":7,\n",
    "                     \"O\":8}\n",
    "    def __init__(self, symbol, coord):\n",
    "        self.symbol = symbol\n",
    "        self.coord = coord\n",
    "    \n",
    "    def get_atomic_number(self):\n",
    "        return self.atomic_number[self.symbol]\n",
    "    \n",
    "    def __str__(self,):\n",
    "        string = f\"{self.symbol} {' '.join(map(lambda c : f'{c : .6f}', self.coord))}\\n\"\n",
    "        return string"
   ]
  },
  {
   "cell_type": "code",
   "execution_count": 36,
   "id": "ee23b451",
   "metadata": {
    "scrolled": true
   },
   "outputs": [
    {
     "name": "stdout",
     "output_type": "stream",
     "text": [
      "C  1.000000  0.000000  0.000000\n",
      "\n"
     ]
    }
   ],
   "source": [
    "c= atom(\"C\", np.asarray([1.0,0.0,0.0]))\n",
    "print(c)"
   ]
  },
  {
   "cell_type": "code",
   "execution_count": 40,
   "id": "880bc703",
   "metadata": {},
   "outputs": [],
   "source": [
    "from copy import deepcopy\n",
    "a0 = 0.529177210903\n",
    "\n",
    "class molecule:\n",
    "    def __init__(self, atomlist):\n",
    "        self.atomlist = atomlist\n",
    "\n",
    "    def read_from_XYZ(self, path = \"ethene.xyz\"):\n",
    "        data = np.loadtxt(path, skiprows = 2, dtype = {'names' : ('symbols', 'coords'), \n",
    "                                                         'formats' : ('O','3float64')}, )\n",
    "        self.atomlist = [atom(s, c/a0) for s, c in zip(data['symbols'], data['coords'])]\n",
    "        \n",
    "    def __str__(self):\n",
    "        return 31*'-'+'\\n'+''.join([at.__str__() for at in self.atomlist])+31*'-'+'\\n'\n",
    "    \n",
    "    def get_basis(self, name = 'sto-3g'):\n",
    "        self.basis_functions = []\n",
    "        basis = basisSet(name)\n",
    "        elements = list(set([at.get_atomic_number() for at in self.atomlist]))\n",
    "        basis.get(elements)\n",
    "        for at in self.atomlist:\n",
    "            atom_basis = basis.basis_functions[at.get_atomic_number()]\n",
    "            for gauss in atom_basis:\n",
    "                gauss_copy = deepcopy(gauss)\n",
    "                gauss_copy.setA(at.coord)\n",
    "                self.basis_functions.append(gauss_copy)\n",
    "                \n",
    "    def getS_slow(self,):\n",
    "        nbf = len(self.basis_functions)\n",
    "        self.S = np.zeros((nbf, nbf))\n",
    "        for i in range(nbf):\n",
    "            for j in range(i,nbf):\n",
    "                self.S[i,j] = self.basis_functions[i].getS(self.basis_functions[j])\n",
    "                self.S[j,i] = self.S[i,j]\n",
    "        \n",
    "\n",
    "    def getS(self):\n",
    "        nbf = len(self.basis_functions)\n",
    "        i, j = np.triu_indices(nbf)\n",
    "        S = np.array([self.basis_functions[x].getS(self.basis_functions[y]) for x, y in zip(i,j) ])\n",
    "        self.S = np.zeros((nbf, nbf))\n",
    "        self.S[i,j] = S\n",
    "        self.S[j,i] = S\n",
    "        "
   ]
  },
  {
   "cell_type": "code",
   "execution_count": 41,
   "id": "2075bef6",
   "metadata": {},
   "outputs": [],
   "source": [
    "ethene = molecule([])\n",
    "ethene.read_from_XYZ(path = \"ethene.xyz\")\n",
    "ethene.get_basis()\n",
    "ethene.getS_slow()"
   ]
  },
  {
   "cell_type": "code",
   "execution_count": 43,
   "id": "6cae5097",
   "metadata": {},
   "outputs": [
    {
     "name": "stdout",
     "output_type": "stream",
     "text": [
      "True\n"
     ]
    }
   ],
   "source": [
    "import pyscf\n",
    "from pyscf import gto\n",
    "mol = gto.M(atom = \"ethene.xyz\", basis = \"sto-3g\")\n",
    "S_pyscf = mol.intor(\"int1e_ovlp\", hermi = 1)\n",
    "V_pyscf = mol.intor(\"int1e_nuc\", hermi = 1)\n",
    "\n",
    "print(np.allclose(S_pyscf, ethene.S))"
   ]
  },
  {
   "cell_type": "code",
   "execution_count": 44,
   "id": "d4e6bddf",
   "metadata": {},
   "outputs": [
    {
     "data": {
      "text/plain": [
       "<matplotlib.image.AxesImage at 0x7f93fad559f0>"
      ]
     },
     "execution_count": 44,
     "metadata": {},
     "output_type": "execute_result"
    },
    {
     "data": {
      "image/png": "[encoded data removed]",
      "text/plain": [
       "<Figure size 288x288 with 1 Axes>"
      ]
     },
     "metadata": {
      "needs_background": "light"
     },
     "output_type": "display_data"
    },
    {
     "data": {
      "image/png": "[encoded data removed]",
      "text/plain": [
       "<Figure size 288x288 with 1 Axes>"
      ]
     },
     "metadata": {
      "needs_background": "light"
     },
     "output_type": "display_data"
    }
   ],
   "source": [
    "plt.matshow(S_pyscf)\n",
    "plt.matshow(ethene.S)"
   ]
  },
  {
   "cell_type": "markdown",
   "id": "d78994bf",
   "metadata": {},
   "source": [
    "# The calculation of electron-nuclear integrals"
   ]
  },
  {
   "cell_type": "code",
   "execution_count": 45,
   "id": "262ab248",
   "metadata": {},
   "outputs": [],
   "source": [
    "x, y, z = symbols('x y z', real = True)\n",
    "Ax, Ay, Az = symbols('Ax Ay Az', real = True)\n",
    "Bx, By, Bz = symbols('Bx By Bz', real = True)\n",
    "Cx, Cy, Cz = symbols('Cx Cy Cz', real = True)\n",
    "alpha, beta = symbols('alpha beta', real = True, positive = True)\n",
    "Px = (alpha * Ax + beta * Bx)/(alpha + beta)\n",
    "Py = (alpha * Ay + beta * By)/(alpha + beta)\n",
    "Pz = (alpha * Az + beta * Bz)/(alpha + beta)\n",
    "RPC = ((Cx-Px)**2 + (Cy-Py)**2 + (Cz-Pz)**2)\n",
    "RAB = ((Ax-Bx)**2 + (Ay-By)**2 + (Az-Bz)**2)\n",
    "#n = symbols('n', integer = True)"
   ]
  },
  {
   "cell_type": "code",
   "execution_count": 46,
   "id": "e52c46d0",
   "metadata": {},
   "outputs": [],
   "source": [
    "class boys(Function):\n",
    "    @classmethod\n",
    "    def eval(cls, n, x):\n",
    "        pass\n",
    "    \n",
    "    def fdiff(self, argindex):\n",
    "        return -boys(self.args[0] +1, self.args[1])"
   ]
  },
  {
   "cell_type": "code",
   "execution_count": 47,
   "id": "ba83fd1c",
   "metadata": {},
   "outputs": [],
   "source": [
    "V00 = ((2* pi)/(alpha + beta))*exp(-alpha*beta*RAB/(alpha + beta))*boys(0, (alpha + beta)*RPC)"
   ]
  },
  {
   "cell_type": "code",
   "execution_count": 48,
   "id": "631ed12b",
   "metadata": {},
   "outputs": [
    {
     "data": {
      "text/latex": [
       "$\\displaystyle \\frac{2 \\pi e^{- \\frac{\\alpha \\beta \\left(\\left(Ax - Bx\\right)^{2} + \\left(Ay - By\\right)^{2} + \\left(Az - Bz\\right)^{2}\\right)}{\\alpha + \\beta}} \\operatorname{boys}{\\left(0,\\left(\\alpha + \\beta\\right) \\left(\\left(Cx - \\frac{Ax \\alpha + Bx \\beta}{\\alpha + \\beta}\\right)^{2} + \\left(Cy - \\frac{Ay \\alpha + By \\beta}{\\alpha + \\beta}\\right)^{2} + \\left(Cz - \\frac{Az \\alpha + Bz \\beta}{\\alpha + \\beta}\\right)^{2}\\right) \\right)}}{\\alpha + \\beta}$"
      ],
      "text/plain": [
       "2*pi*exp(-alpha*beta*((Ax - Bx)**2 + (Ay - By)**2 + (Az - Bz)**2)/(alpha + beta))*boys(0, (alpha + beta)*((Cx - (Ax*alpha + Bx*beta)/(alpha + beta))**2 + (Cy - (Ay*alpha + By*beta)/(alpha + beta))**2 + (Cz - (Az*alpha + Bz*beta)/(alpha + beta))**2))/(alpha + beta)"
      ]
     },
     "execution_count": 48,
     "metadata": {},
     "output_type": "execute_result"
    }
   ],
   "source": [
    "V00"
   ]
  },
  {
   "cell_type": "code",
   "execution_count": 49,
   "id": "7b3555cb",
   "metadata": {},
   "outputs": [],
   "source": [
    "def generate_triple(ijk):\n",
    "    new = [ijk[:] for _ in range(3)]\n",
    "    for i in range(3):\n",
    "        new[i][i]+=1\n",
    "    return new\n",
    "\n",
    "def generate_derivative(expr, var):\n",
    "    return factor_terms(diff(expr, var))\n",
    "#return [diff(expr, x) for x in var]\n"
   ]
  },
  {
   "cell_type": "code",
   "execution_count": 50,
   "id": "4690bee4",
   "metadata": {},
   "outputs": [],
   "source": [
    "def generate_tree(Lmax, der_init, var):\n",
    "    ijk = [[0,0,0]]\n",
    "    derivatives = [der_init]\n",
    "    \n",
    "    ijk_old = ijk[:]\n",
    "    derivatives_old = derivatives[:]\n",
    "    \n",
    "    for _ in range(Lmax):\n",
    "        \n",
    "        ijk_new = []\n",
    "        derivatives_new = []\n",
    "        \n",
    "        for item, expr in zip(ijk_old, derivatives_old):\n",
    "            new_ijk = generate_triple(item)\n",
    "            for index, n in enumerate(new_ijk):\n",
    "                if n not in ijk:\n",
    "                    ijk.append(n)\n",
    "                    ijk_new.append(n)\n",
    "                    new_der = generate_derivative(expr, var[index])\n",
    "                    derivatives.append(new_der)\n",
    "                    derivatives_new.append(new_der)\n",
    "            ijk_old = ijk_new[:]\n",
    "            derivatives_old = derivatives_new[:]\n",
    "    return ijk, derivatives\n",
    "            \n"
   ]
  },
  {
   "cell_type": "code",
   "execution_count": 51,
   "id": "6c37e5a2",
   "metadata": {},
   "outputs": [],
   "source": [
    "Lmax = 1\n",
    "ijk, d_ijk = generate_tree(Lmax, V00, (Ax, Ay, Az))\n",
    "ijklmn = []\n",
    "derivatives_ijklmn = []\n",
    "for i, d in zip(ijk, d_ijk):\n",
    "    lmn, d_lmn = generate_tree(Lmax, d, (Bx, By, Bz))\n",
    "    for j, e in zip(lmn, d_lmn):\n",
    "        ijklmn.append(i+j)\n",
    "        derivatives_ijklmn.append(e)\n",
    "derivatives_dict = {tuple(i): d for i, d in zip(ijklmn, derivatives_ijklmn)}\n"
   ]
  },
  {
   "cell_type": "code",
   "execution_count": 52,
   "id": "36a2cc2f",
   "metadata": {},
   "outputs": [],
   "source": [
    "#for key, value in derivatives_dict.items():\n",
    "#    print(key, factor_terms(value))"
   ]
  },
  {
   "cell_type": "code",
   "execution_count": 53,
   "id": "b2961c35",
   "metadata": {},
   "outputs": [],
   "source": [
    "def get_v_ijklmn(i,j,k,l,m,n):\n",
    "    vint = 0\n",
    "    for o in range(i+1):\n",
    "        for p in range(j+1):\n",
    "            for q in range(k+1):\n",
    "                for r in range(l+1):\n",
    "                    for s in range(m+1):\n",
    "                        for t in range(n+1):\n",
    "                            vint += getCkn(o, i, alpha)*\\\n",
    "                                    getCkn(p, j, alpha)*\\\n",
    "                                    getCkn(q, k, alpha)*\\\n",
    "                                    getCkn(r, l, beta)*\\\n",
    "                                    getCkn(s, m, beta)*\\\n",
    "                                    getCkn(t, n, beta)*\\\n",
    "                                    derivatives_dict[(o,p,q,r,s,t)]\n",
    "    return factor_terms(vint)"
   ]
  },
  {
   "cell_type": "code",
   "execution_count": 54,
   "id": "9ed69502",
   "metadata": {},
   "outputs": [
    {
     "data": {
      "text/latex": [
       "$\\displaystyle \\frac{2 \\pi e^{- \\frac{\\alpha \\beta \\left(\\left(Ax - Bx\\right)^{2} + \\left(Ay - By\\right)^{2} + \\left(Az - Bz\\right)^{2}\\right)}{\\alpha + \\beta}} \\operatorname{boys}{\\left(0,\\left(\\alpha + \\beta\\right) \\left(\\left(Cx - \\frac{Ax \\alpha + Bx \\beta}{\\alpha + \\beta}\\right)^{2} + \\left(Cy - \\frac{Ay \\alpha + By \\beta}{\\alpha + \\beta}\\right)^{2} + \\left(Cz - \\frac{Az \\alpha + Bz \\beta}{\\alpha + \\beta}\\right)^{2}\\right) \\right)}}{\\alpha + \\beta}$"
      ],
      "text/plain": [
       "2*pi*exp(-alpha*beta*((Ax - Bx)**2 + (Ay - By)**2 + (Az - Bz)**2)/(alpha + beta))*boys(0, (alpha + beta)*((Cx - (Ax*alpha + Bx*beta)/(alpha + beta))**2 + (Cy - (Ay*alpha + By*beta)/(alpha + beta))**2 + (Cz - (Az*alpha + Bz*beta)/(alpha + beta))**2))/(alpha + beta)"
      ]
     },
     "execution_count": 54,
     "metadata": {},
     "output_type": "execute_result"
    }
   ],
   "source": [
    "get_v_ijklmn(0,0,0,0,0,0)"
   ]
  },
  {
   "cell_type": "code",
   "execution_count": 55,
   "id": "84f091ac",
   "metadata": {},
   "outputs": [
    {
     "name": "stdout",
     "output_type": "stream",
     "text": [
      "(0, 0, 0, 0, 0, 0)\n",
      "(0, 0, 0, 1, 0, 0)\n",
      "(0, 0, 0, 0, 1, 0)\n",
      "(0, 0, 0, 0, 0, 1)\n",
      "(1, 0, 0, 0, 0, 0)\n",
      "(1, 0, 0, 1, 0, 0)\n",
      "(1, 0, 0, 0, 1, 0)\n",
      "(1, 0, 0, 0, 0, 1)\n",
      "(0, 1, 0, 0, 0, 0)\n",
      "(0, 1, 0, 1, 0, 0)\n",
      "(0, 1, 0, 0, 1, 0)\n",
      "(0, 1, 0, 0, 0, 1)\n",
      "(0, 0, 1, 0, 0, 0)\n",
      "(0, 0, 1, 1, 0, 0)\n",
      "(0, 0, 1, 0, 1, 0)\n",
      "(0, 0, 1, 0, 0, 1)\n"
     ]
    }
   ],
   "source": [
    "p, q, rAB, pRPC = symbols('p q rAB pRPC', real = True)\n",
    "keys = derivatives_dict.keys()\n",
    "vij_dict = {}\n",
    "subsdict = {alpha+beta:p,alpha*beta:q, \n",
    "            (Ax - Bx)**2 + (Ay - By)**2 + (Az - Bz)**2:rAB,\n",
    "            (alpha + beta)*((Cx - (Ax*alpha + Bx*beta)/(alpha + beta))**2 + (Cy - (Ay*alpha + By*beta)/(alpha + beta))**2 + (Cz - (Az*alpha + Bz*beta)/(alpha + beta))**2): pRPC}\n",
    "for key in keys:\n",
    "    print(key)\n",
    "    vij = get_v_ijklmn(*key)\n",
    "    vij_dict[key] = vij.subs(subsdict)"
   ]
  },
  {
   "cell_type": "code",
   "execution_count": 56,
   "id": "76a1a7e6",
   "metadata": {},
   "outputs": [
    {
     "data": {
      "text/latex": [
       "$\\displaystyle \\frac{2 \\pi e^{- \\frac{q rAB}{p}} \\operatorname{boys}{\\left(0,pRPC \\right)}}{p}$"
      ],
      "text/plain": [
       "2*pi*exp(-q*rAB/p)*boys(0, pRPC)/p"
      ]
     },
     "execution_count": 56,
     "metadata": {},
     "output_type": "execute_result"
    }
   ],
   "source": [
    "vij_dict[(0,0,0,0,0,0)]"
   ]
  },
  {
   "cell_type": "code",
   "execution_count": 57,
   "id": "9a38b1b8",
   "metadata": {},
   "outputs": [],
   "source": [
    "def write_V_elnuc(path = \"./\"):\n",
    "    with open(path+\"V.py\", \"w\") as file:\n",
    "        file.write(\"from scipy.special import hyp1f1 \\n\")\n",
    "        file.write(\"from numpy import sqrt, exp, pi, dot \\n\")\n",
    "        file.write(\"def boys(n,t):\\n\")\n",
    "        file.write(\"    return hyp1f1(n+0.5, n+1.5, -t)/(2.*n+1.)\\n\")\n",
    "        file.write(\"def Vij(i,j,k,l,m,n,alpha,beta,A,B,C):\\n\")\n",
    "        file.write(\"    p = alpha + beta\\n\")\n",
    "        file.write(\"    q = alpha * beta\\n\")\n",
    "        file.write(\"    AB = A-B\\n\")\n",
    "        file.write(\"    rAB = dot(AB, AB)\\n\")\n",
    "        file.write(\"    P = (alpha*A+beta*B)/p \\n\")\n",
    "        file.write(\"    PC = P-C \\n\")\n",
    "        file.write(\"    pRPC = p*dot(PC,PC) \\n\")\n",
    "        file.write(\"    Ax,Ay,Az = A[0], A[1], A[2] \\n\")\n",
    "        file.write(\"    Bx,By,Bz = B[0], B[1], B[2] \\n\")\n",
    "        file.write(\"    Cx,Cy,Cz = C[0], C[1], C[2] \\n\")\n",
    "        for key, value in vij_dict.items():\n",
    "            file.write(f\"    if (i,j,k,l,m,n) == {key}:\\n\")\n",
    "            file.write(f\"          return {value}\\n\")"
   ]
  },
  {
   "cell_type": "code",
   "execution_count": 58,
   "id": "672d727e",
   "metadata": {},
   "outputs": [],
   "source": [
    "write_V_elnuc()"
   ]
  },
  {
   "cell_type": "code",
   "execution_count": 59,
   "id": "00d6d3a6",
   "metadata": {},
   "outputs": [],
   "source": [
    "import numpy as np\n",
    "import S\n",
    "import V\n",
    "class gaussian:\n",
    "    def __init__(self, A, exps, coefs, ijk):\n",
    "        self.A = A\n",
    "        self.exps = exps\n",
    "        self.coefs = coefs\n",
    "        self.ijk = ijk\n",
    "        self.get_norm_constants()\n",
    "    \n",
    "    def setA(self, r):\n",
    "        self.A = r\n",
    "        \n",
    "    def get_norm_constants(self,):\n",
    "        self.norm_const = np.zeros(self.coefs.shape)\n",
    "        for i, alpha in enumerate(self.exps):\n",
    "                a = S.Sij(self.ijk[0], self.ijk[0], alpha, alpha, self.A[0], self.A[0])\n",
    "                b = S.Sij(self.ijk[1], self.ijk[1], alpha, alpha, self.A[1], self.A[1])\n",
    "                c = S.Sij(self.ijk[2], self.ijk[2], alpha, alpha, self.A[2], self.A[2])\n",
    "                self.norm_const[i] = 1./np.sqrt(a* b* c)\n",
    "            \n",
    "    def getS(self, other):\n",
    "        overlap = 0.0\n",
    "        for ca, alphaa, normi in zip (self.coefs, self.exps, self.norm_const):\n",
    "            for cb, alphab, normj in zip (other.coefs, other.exps, other.norm_const):\n",
    "                a = S.Sij(self.ijk[0], other.ijk[0], alphaa, alphab, self.A[0], other.A[0])\n",
    "                b = S.Sij(self.ijk[1], other.ijk[1], alphaa, alphab, self.A[1], other.A[1])\n",
    "                c = S.Sij(self.ijk[2], other.ijk[2], alphaa, alphab, self.A[2], other.A[2])\n",
    "                overlap += ca* cb* a * b * c * normi * normj\n",
    "        return overlap\n",
    "    \n",
    "    def getVC(self, other, RC):\n",
    "        ven = 0.0\n",
    "        for ca, alphaa, normi in zip (self.coefs, self.exps, self.norm_const):\n",
    "            for cb, alphab, normj in zip (other.coefs, other.exps, other.norm_const):\n",
    "                ven +=  ca*cb*normi*normj*V.Vij(self.ijk[0],self.ijk[1],self.ijk[2],\n",
    "                              other.ijk[0],other.ijk[1],other.ijk[2],\n",
    "                              alphaa, alphab, self.A, other.A, RC )\n",
    "        return ven\n",
    "    \n",
    "    def __str__(self,):\n",
    "        string = ''.join([f\"------ Gaussian Function -------\\n\",\n",
    "                          f\"Center        =  {self.A} \\n\",\n",
    "                          f\"Exponents     =  {self.exps} \\n\",\n",
    "                          f\"Coefficients  =  {self.coefs} \\n\",\n",
    "                          f\"ijk           =  {self.ijk} \\n\"])\n",
    "        return string\n",
    "                \n"
   ]
  },
  {
   "cell_type": "code",
   "execution_count": 60,
   "id": "0c274d1d",
   "metadata": {},
   "outputs": [
    {
     "data": {
      "text/plain": [
       "0.08317781588111611"
      ]
     },
     "execution_count": 60,
     "metadata": {},
     "output_type": "execute_result"
    }
   ],
   "source": [
    "s1 = gaussian(np.zeros(3), np.asarray([1.0, 0.5]), np.asarray([1.0, -1.0]), (0,0,1))\n",
    "s2 = gaussian(np.zeros(3), np.asarray([1.0]), np.asarray([1.0]), (0,0,1))\n",
    "s1.getVC(s2, np.array([1.,1.,1.]))"
   ]
  },
  {
   "cell_type": "code",
   "execution_count": 61,
   "id": "088dc88b",
   "metadata": {},
   "outputs": [
    {
     "data": {
      "text/latex": [
       "$\\displaystyle \\frac{2 \\pi e^{- \\frac{q rAB}{p}} \\operatorname{boys}{\\left(0,pRPC \\right)}}{p}$"
      ],
      "text/plain": [
       "2*pi*exp(-q*rAB/p)*boys(0, pRPC)/p"
      ]
     },
     "execution_count": 61,
     "metadata": {},
     "output_type": "execute_result"
    }
   ],
   "source": [
    "vij_dict[(0,0,0,0,0,0)]"
   ]
  },
  {
   "cell_type": "code",
   "execution_count": 62,
   "id": "156e19c5",
   "metadata": {},
   "outputs": [],
   "source": [
    "from copy import deepcopy\n",
    "a0 = 0.529177210903\n",
    "\n",
    "class molecule:\n",
    "    def __init__(self, atomlist):\n",
    "        self.atomlist = atomlist\n",
    "\n",
    "    def read_from_XYZ(self, path = \"/Users/rolandmitric/ethene.xyz\"):\n",
    "        data = np.loadtxt(path, skiprows = 2, dtype = {'names' : ('symbols', 'coords'), \n",
    "                                                         'formats' : ('O','3float64')}, )\n",
    "        self.atomlist = [atom(s, c/a0) for s, c in zip(data['symbols'], data['coords'])]\n",
    "        \n",
    "    def __str__(self):\n",
    "        return 31*'-'+'\\n'+''.join([at.__str__() for at in self.atomlist])+31*'-'+'\\n'\n",
    "    \n",
    "    def get_basis(self, name = 'sto-3g'):\n",
    "        self.basis_functions = []\n",
    "        basis = basisSet(name)\n",
    "        elements = list(set([at.get_atomic_number() for at in self.atomlist]))\n",
    "        basis.get(elements)\n",
    "        for at in self.atomlist:\n",
    "            atom_basis = basis.basis_functions[at.get_atomic_number()]\n",
    "            for gauss in atom_basis:\n",
    "                gauss_copy = deepcopy(gauss)\n",
    "                gauss_copy.setA(at.coord)\n",
    "                self.basis_functions.append(gauss_copy)\n",
    "                \n",
    "    def getS_slow(self,):\n",
    "        nbf = len(self.basis_functions)\n",
    "        self.S = np.zeros((nbf, nbf))\n",
    "        for i in range(nbf):\n",
    "            for j in range(i,nbf):\n",
    "                self.S[i,j] = self.basis_functions[i].getS(self.basis_functions[j])\n",
    "                self.S[j,i] = self.S[i,j]\n",
    "        \n",
    "\n",
    "    def getS(self):\n",
    "        nbf = len(self.basis_functions)\n",
    "        i, j = np.triu_indices(nbf)\n",
    "        S = np.array([self.basis_functions[x].getS(self.basis_functions[y]) for x, y in zip(i,j) ])\n",
    "        self.S = np.zeros((nbf, nbf))\n",
    "        self.S[i,j] = S\n",
    "        self.S[j,i] = S\n",
    "        \n",
    "    def getVij(self,i,j):\n",
    "        vint = 0.\n",
    "        for at in self.atomlist:\n",
    "            vint = vint- at.get_atomic_number()*self.basis_functions[i].getVC(self.basis_functions[j], at.coord)\n",
    "        return vint\n",
    "        \n",
    "    def getV(self):\n",
    "        nbf = len(self.basis_functions)\n",
    "        self.V = np.zeros((nbf, nbf))\n",
    "        for i in range(nbf):\n",
    "            for j in range(i,nbf):\n",
    "                self.V[i,j] = self.getVij(i,j)\n",
    "                self.V[j,i] = self.V[i,j]\n",
    "        "
   ]
  },
  {
   "cell_type": "code",
   "execution_count": 65,
   "id": "66f8b683",
   "metadata": {},
   "outputs": [],
   "source": [
    "ethene = molecule([])\n",
    "ethene.read_from_XYZ(path = \"ethene.xyz\")\n",
    "ethene.get_basis()\n",
    "ethene.getS_slow()\n",
    "ethene.getV()"
   ]
  },
  {
   "cell_type": "code",
   "execution_count": 67,
   "id": "25c744f9",
   "metadata": {},
   "outputs": [
    {
     "data": {
      "text/plain": [
       "True"
      ]
     },
     "execution_count": 67,
     "metadata": {},
     "output_type": "execute_result"
    }
   ],
   "source": [
    "import pyscf\n",
    "from pyscf import gto\n",
    "mol = gto.M(atom = \"ethene.xyz\", basis = \"sto-3g\")\n",
    "S_pyscf = mol.intor(\"int1e_ovlp\", hermi = 1)\n",
    "V_pyscf = mol.intor(\"int1e_nuc\", hermi = 1)\n",
    "np.allclose(V_pyscf, ethene.V)"
   ]
  },
  {
   "cell_type": "code",
   "execution_count": 68,
   "id": "dfaa8b94",
   "metadata": {},
   "outputs": [
    {
     "data": {
      "text/plain": [
       "<matplotlib.image.AxesImage at 0x7f93fad56a70>"
      ]
     },
     "execution_count": 68,
     "metadata": {},
     "output_type": "execute_result"
    },
    {
     "data": {
      "image/png": "[encoded data removed]",
      "text/plain": [
       "<Figure size 288x288 with 1 Axes>"
      ]
     },
     "metadata": {
      "needs_background": "light"
     },
     "output_type": "display_data"
    }
   ],
   "source": [
    "plt.matshow(ethene.V)"
   ]
  },
  {
   "cell_type": "code",
   "execution_count": 69,
   "id": "bfe48274",
   "metadata": {},
   "outputs": [
    {
     "data": {
      "text/plain": [
       "<matplotlib.image.AxesImage at 0x7f93c8255360>"
      ]
     },
     "execution_count": 69,
     "metadata": {},
     "output_type": "execute_result"
    },
    {
     "data": {
      "image/png": "[encoded data removed]",
      "text/plain": [
       "<Figure size 288x288 with 1 Axes>"
      ]
     },
     "metadata": {
      "needs_background": "light"
     },
     "output_type": "display_data"
    }
   ],
   "source": [
    "plt.matshow(V_pyscf)"
   ]
  },
  {
   "cell_type": "code",
   "execution_count": 70,
   "id": "0a3540fd",
   "metadata": {},
   "outputs": [],
   "source": [
    "gamma, delta = symbols('gamma delta', real = True, positive = True)\n",
    "Cx, Cy, Cz = symbols('Cx Cy Cz', real = True)\n",
    "Dx, Dy, Dz = symbols('Dx Dy Dz', real = True)\n",
    "\n",
    "p = alpha + beta\n",
    "q = gamma + delta\n",
    "pq = p + q\n",
    "rho = p*q/pq\n",
    "\n",
    "Px = (alpha*Ax + beta*Bx)/p\n",
    "Py = (alpha*Ay + beta*By)/p\n",
    "Pz = (alpha*Az + beta*Bz)/p\n",
    "\n",
    "Qx = (gamma*Cx + delta*Dx)/q\n",
    "Qy = (gamma*Cy + delta*Dy)/q\n",
    "Qz = (gamma*Cz + delta*Dz)/q\n",
    "\n",
    "RAB = ((Ax-Bx)**2+(Ay-By)**2+(Az-Bz)**2)\n",
    "RCD = ((Cx-Dx)**2+(Cy-Dy)**2+(Cz-Dz)**2)\n",
    "RPQ = ((Px-Qx)**2+(Py-Qy)**2+(Pz-Qz)**2)"
   ]
  },
  {
   "cell_type": "code",
   "execution_count": 71,
   "id": "da745227",
   "metadata": {},
   "outputs": [],
   "source": [
    "G00 = (2*pi/rho)*(pi/(p+q))**(3/2)*exp(-(alpha*beta/p)*RAB)*exp(-(gamma*delta/q)*RCD)*boys(0, rho*RPQ)"
   ]
  },
  {
   "cell_type": "code",
   "execution_count": 72,
   "id": "47954e4d",
   "metadata": {},
   "outputs": [
    {
     "data": {
      "text/latex": [
       "$\\displaystyle \\frac{2 \\pi^{2.5} e^{- \\frac{\\alpha \\beta \\left(\\left(Ax - Bx\\right)^{2} + \\left(Ay - By\\right)^{2} + \\left(Az - Bz\\right)^{2}\\right)}{\\alpha + \\beta}} e^{- \\frac{\\delta \\gamma \\left(\\left(Cx - Dx\\right)^{2} + \\left(Cy - Dy\\right)^{2} + \\left(Cz - Dz\\right)^{2}\\right)}{\\delta + \\gamma}} \\operatorname{boys}{\\left(0,\\frac{\\left(\\alpha + \\beta\\right) \\left(\\delta + \\gamma\\right) \\left(\\left(- \\frac{Cx \\gamma + Dx \\delta}{\\delta + \\gamma} + \\frac{Ax \\alpha + Bx \\beta}{\\alpha + \\beta}\\right)^{2} + \\left(- \\frac{Cy \\gamma + Dy \\delta}{\\delta + \\gamma} + \\frac{Ay \\alpha + By \\beta}{\\alpha + \\beta}\\right)^{2} + \\left(- \\frac{Cz \\gamma + Dz \\delta}{\\delta + \\gamma} + \\frac{Az \\alpha + Bz \\beta}{\\alpha + \\beta}\\right)^{2}\\right)}{\\alpha + \\beta + \\delta + \\gamma} \\right)}}{\\left(\\alpha + \\beta\\right) \\left(\\delta + \\gamma\\right) \\left(\\alpha + \\beta + \\delta + \\gamma\\right)^{0.5}}$"
      ],
      "text/plain": [
       "2*pi**2.5*exp(-alpha*beta*((Ax - Bx)**2 + (Ay - By)**2 + (Az - Bz)**2)/(alpha + beta))*exp(-delta*gamma*((Cx - Dx)**2 + (Cy - Dy)**2 + (Cz - Dz)**2)/(delta + gamma))*boys(0, (alpha + beta)*(delta + gamma)*((-(Cx*gamma + Dx*delta)/(delta + gamma) + (Ax*alpha + Bx*beta)/(alpha + beta))**2 + (-(Cy*gamma + Dy*delta)/(delta + gamma) + (Ay*alpha + By*beta)/(alpha + beta))**2 + (-(Cz*gamma + Dz*delta)/(delta + gamma) + (Az*alpha + Bz*beta)/(alpha + beta))**2)/(alpha + beta + delta + gamma))/((alpha + beta)*(delta + gamma)*(alpha + beta + delta + gamma)**0.5)"
      ]
     },
     "execution_count": 72,
     "metadata": {},
     "output_type": "execute_result"
    }
   ],
   "source": [
    "G00"
   ]
  },
  {
   "cell_type": "code",
   "execution_count": 73,
   "id": "05d8bf21",
   "metadata": {},
   "outputs": [],
   "source": [
    "Lmax = 1\n",
    "ijk, d_ijk = generate_tree(Lmax, G00, (Ax, Ay, Az))\n",
    "ijklmn = []\n",
    "derivatives_ijklmn = []\n",
    "for i, d in zip(ijk, d_ijk):\n",
    "    lmn, d_lmn = generate_tree(Lmax, d, (Bx, By, Bz))\n",
    "    for j, e in zip(lmn, d_lmn):\n",
    "        ijklmn.append(i+j)\n",
    "        derivatives_ijklmn.append(e)\n",
    "        \n",
    "ijklmnopq = []\n",
    "derivatives_ijklmnopq = []\n",
    "for i, d in zip(ijklmn, derivatives_ijklmn):\n",
    "    opq, d_opq = generate_tree(Lmax, d, (Cx, Cy, Cz))\n",
    "    for j, e in zip(opq, d_opq):\n",
    "        ijklmnopq.append(i+j)\n",
    "        derivatives_ijklmnopq.append(e)\n",
    "        \n",
    "ijklmnopqrst = []\n",
    "derivatives_ijklmnopqrst = []\n",
    "for i, d in zip(ijklmnopq, derivatives_ijklmnopq):\n",
    "    rst, d_rst = generate_tree(Lmax, d, (Dx, Dy, Dz))\n",
    "    for j, e in zip(rst, d_rst):\n",
    "        ijklmnopqrst.append(i+j)\n",
    "        derivatives_ijklmnopqrst.append(e)       \n",
    "\n",
    "derivatives_dict = {tuple(i): d for i, d in zip(ijklmnopqrst, derivatives_ijklmnopqrst)}\n"
   ]
  },
  {
   "cell_type": "code",
   "execution_count": 74,
   "id": "2e8cee88",
   "metadata": {},
   "outputs": [],
   "source": [
    "def get_twoel(m,n,o,p,q,r,s,t,u,v,w,x):\n",
    "    eri = 0\n",
    "    for a in range(m+1):\n",
    "        for b in range(n+1):\n",
    "            for c in range(o+1):\n",
    "                for d in range(p+1):\n",
    "                    for e in range(q+1):\n",
    "                        for f in range(r+1):\n",
    "                            for g in range(s+1):\n",
    "                                for h in range(t+1):\n",
    "                                    for i in range(u+1):\n",
    "                                        for j in range(v+1):\n",
    "                                            for k in range(w+1):\n",
    "                                                for l in range(x+1):\n",
    "                                                    eri +=  getCkn(a, m, alpha)*\\\n",
    "                                                            getCkn(b, n, alpha)*\\\n",
    "                                                            getCkn(c, o, alpha)*\\\n",
    "                                                            getCkn(d, p, beta)*\\\n",
    "                                                            getCkn(e, q, beta)*\\\n",
    "                                                            getCkn(f, r, beta)*\\\n",
    "                                                            getCkn(g, s, gamma)*\\\n",
    "                                                            getCkn(h, t, gamma)*\\\n",
    "                                                            getCkn(i, u, gamma)*\\\n",
    "                                                            getCkn(j, v, delta)*\\\n",
    "                                                            getCkn(k, w, delta)*\\\n",
    "                                                            getCkn(l, x, delta)*\\\n",
    "                                                            derivatives_dict[(a,b,c,d,e,f,g,h,i,j,k,l)]\n",
    "    return factor_terms(eri)\n",
    "\n",
    "    "
   ]
  },
  {
   "cell_type": "code",
   "execution_count": 75,
   "id": "ee90251f",
   "metadata": {},
   "outputs": [
    {
     "name": "stdout",
     "output_type": "stream",
     "text": [
      "(0, 0, 0, 0, 0, 0, 0, 0, 0, 0, 0, 0)\n",
      "(0, 0, 0, 0, 0, 0, 0, 0, 0, 1, 0, 0)\n",
      "(0, 0, 0, 0, 0, 0, 0, 0, 0, 0, 1, 0)\n",
      "(0, 0, 0, 0, 0, 0, 0, 0, 0, 0, 0, 1)\n",
      "(0, 0, 0, 0, 0, 0, 1, 0, 0, 0, 0, 0)\n",
      "(0, 0, 0, 0, 0, 0, 1, 0, 0, 1, 0, 0)\n",
      "(0, 0, 0, 0, 0, 0, 1, 0, 0, 0, 1, 0)\n",
      "(0, 0, 0, 0, 0, 0, 1, 0, 0, 0, 0, 1)\n",
      "(0, 0, 0, 0, 0, 0, 0, 1, 0, 0, 0, 0)\n",
      "(0, 0, 0, 0, 0, 0, 0, 1, 0, 1, 0, 0)\n",
      "(0, 0, 0, 0, 0, 0, 0, 1, 0, 0, 1, 0)\n",
      "(0, 0, 0, 0, 0, 0, 0, 1, 0, 0, 0, 1)\n",
      "(0, 0, 0, 0, 0, 0, 0, 0, 1, 0, 0, 0)\n",
      "(0, 0, 0, 0, 0, 0, 0, 0, 1, 1, 0, 0)\n",
      "(0, 0, 0, 0, 0, 0, 0, 0, 1, 0, 1, 0)\n",
      "(0, 0, 0, 0, 0, 0, 0, 0, 1, 0, 0, 1)\n",
      "(0, 0, 0, 1, 0, 0, 0, 0, 0, 0, 0, 0)\n",
      "(0, 0, 0, 1, 0, 0, 0, 0, 0, 1, 0, 0)\n",
      "(0, 0, 0, 1, 0, 0, 0, 0, 0, 0, 1, 0)\n",
      "(0, 0, 0, 1, 0, 0, 0, 0, 0, 0, 0, 1)\n",
      "(0, 0, 0, 1, 0, 0, 1, 0, 0, 0, 0, 0)\n",
      "(0, 0, 0, 1, 0, 0, 1, 0, 0, 1, 0, 0)\n",
      "(0, 0, 0, 1, 0, 0, 1, 0, 0, 0, 1, 0)\n",
      "(0, 0, 0, 1, 0, 0, 1, 0, 0, 0, 0, 1)\n",
      "(0, 0, 0, 1, 0, 0, 0, 1, 0, 0, 0, 0)\n",
      "(0, 0, 0, 1, 0, 0, 0, 1, 0, 1, 0, 0)\n",
      "(0, 0, 0, 1, 0, 0, 0, 1, 0, 0, 1, 0)\n",
      "(0, 0, 0, 1, 0, 0, 0, 1, 0, 0, 0, 1)\n",
      "(0, 0, 0, 1, 0, 0, 0, 0, 1, 0, 0, 0)\n",
      "(0, 0, 0, 1, 0, 0, 0, 0, 1, 1, 0, 0)\n",
      "(0, 0, 0, 1, 0, 0, 0, 0, 1, 0, 1, 0)\n",
      "(0, 0, 0, 1, 0, 0, 0, 0, 1, 0, 0, 1)\n",
      "(0, 0, 0, 0, 1, 0, 0, 0, 0, 0, 0, 0)\n",
      "(0, 0, 0, 0, 1, 0, 0, 0, 0, 1, 0, 0)\n",
      "(0, 0, 0, 0, 1, 0, 0, 0, 0, 0, 1, 0)\n",
      "(0, 0, 0, 0, 1, 0, 0, 0, 0, 0, 0, 1)\n",
      "(0, 0, 0, 0, 1, 0, 1, 0, 0, 0, 0, 0)\n",
      "(0, 0, 0, 0, 1, 0, 1, 0, 0, 1, 0, 0)\n",
      "(0, 0, 0, 0, 1, 0, 1, 0, 0, 0, 1, 0)\n",
      "(0, 0, 0, 0, 1, 0, 1, 0, 0, 0, 0, 1)\n",
      "(0, 0, 0, 0, 1, 0, 0, 1, 0, 0, 0, 0)\n",
      "(0, 0, 0, 0, 1, 0, 0, 1, 0, 1, 0, 0)\n",
      "(0, 0, 0, 0, 1, 0, 0, 1, 0, 0, 1, 0)\n",
      "(0, 0, 0, 0, 1, 0, 0, 1, 0, 0, 0, 1)\n",
      "(0, 0, 0, 0, 1, 0, 0, 0, 1, 0, 0, 0)\n",
      "(0, 0, 0, 0, 1, 0, 0, 0, 1, 1, 0, 0)\n",
      "(0, 0, 0, 0, 1, 0, 0, 0, 1, 0, 1, 0)\n",
      "(0, 0, 0, 0, 1, 0, 0, 0, 1, 0, 0, 1)\n",
      "(0, 0, 0, 0, 0, 1, 0, 0, 0, 0, 0, 0)\n",
      "(0, 0, 0, 0, 0, 1, 0, 0, 0, 1, 0, 0)\n",
      "(0, 0, 0, 0, 0, 1, 0, 0, 0, 0, 1, 0)\n",
      "(0, 0, 0, 0, 0, 1, 0, 0, 0, 0, 0, 1)\n",
      "(0, 0, 0, 0, 0, 1, 1, 0, 0, 0, 0, 0)\n",
      "(0, 0, 0, 0, 0, 1, 1, 0, 0, 1, 0, 0)\n",
      "(0, 0, 0, 0, 0, 1, 1, 0, 0, 0, 1, 0)\n",
      "(0, 0, 0, 0, 0, 1, 1, 0, 0, 0, 0, 1)\n",
      "(0, 0, 0, 0, 0, 1, 0, 1, 0, 0, 0, 0)\n",
      "(0, 0, 0, 0, 0, 1, 0, 1, 0, 1, 0, 0)\n",
      "(0, 0, 0, 0, 0, 1, 0, 1, 0, 0, 1, 0)\n",
      "(0, 0, 0, 0, 0, 1, 0, 1, 0, 0, 0, 1)\n",
      "(0, 0, 0, 0, 0, 1, 0, 0, 1, 0, 0, 0)\n",
      "(0, 0, 0, 0, 0, 1, 0, 0, 1, 1, 0, 0)\n",
      "(0, 0, 0, 0, 0, 1, 0, 0, 1, 0, 1, 0)\n",
      "(0, 0, 0, 0, 0, 1, 0, 0, 1, 0, 0, 1)\n",
      "(1, 0, 0, 0, 0, 0, 0, 0, 0, 0, 0, 0)\n",
      "(1, 0, 0, 0, 0, 0, 0, 0, 0, 1, 0, 0)\n",
      "(1, 0, 0, 0, 0, 0, 0, 0, 0, 0, 1, 0)\n",
      "(1, 0, 0, 0, 0, 0, 0, 0, 0, 0, 0, 1)\n",
      "(1, 0, 0, 0, 0, 0, 1, 0, 0, 0, 0, 0)\n",
      "(1, 0, 0, 0, 0, 0, 1, 0, 0, 1, 0, 0)\n",
      "(1, 0, 0, 0, 0, 0, 1, 0, 0, 0, 1, 0)\n",
      "(1, 0, 0, 0, 0, 0, 1, 0, 0, 0, 0, 1)\n",
      "(1, 0, 0, 0, 0, 0, 0, 1, 0, 0, 0, 0)\n",
      "(1, 0, 0, 0, 0, 0, 0, 1, 0, 1, 0, 0)\n",
      "(1, 0, 0, 0, 0, 0, 0, 1, 0, 0, 1, 0)\n",
      "(1, 0, 0, 0, 0, 0, 0, 1, 0, 0, 0, 1)\n",
      "(1, 0, 0, 0, 0, 0, 0, 0, 1, 0, 0, 0)\n",
      "(1, 0, 0, 0, 0, 0, 0, 0, 1, 1, 0, 0)\n",
      "(1, 0, 0, 0, 0, 0, 0, 0, 1, 0, 1, 0)\n",
      "(1, 0, 0, 0, 0, 0, 0, 0, 1, 0, 0, 1)\n",
      "(1, 0, 0, 1, 0, 0, 0, 0, 0, 0, 0, 0)\n",
      "(1, 0, 0, 1, 0, 0, 0, 0, 0, 1, 0, 0)\n",
      "(1, 0, 0, 1, 0, 0, 0, 0, 0, 0, 1, 0)\n",
      "(1, 0, 0, 1, 0, 0, 0, 0, 0, 0, 0, 1)\n",
      "(1, 0, 0, 1, 0, 0, 1, 0, 0, 0, 0, 0)\n",
      "(1, 0, 0, 1, 0, 0, 1, 0, 0, 1, 0, 0)\n",
      "(1, 0, 0, 1, 0, 0, 1, 0, 0, 0, 1, 0)\n",
      "(1, 0, 0, 1, 0, 0, 1, 0, 0, 0, 0, 1)\n",
      "(1, 0, 0, 1, 0, 0, 0, 1, 0, 0, 0, 0)\n",
      "(1, 0, 0, 1, 0, 0, 0, 1, 0, 1, 0, 0)\n",
      "(1, 0, 0, 1, 0, 0, 0, 1, 0, 0, 1, 0)\n",
      "(1, 0, 0, 1, 0, 0, 0, 1, 0, 0, 0, 1)\n",
      "(1, 0, 0, 1, 0, 0, 0, 0, 1, 0, 0, 0)\n",
      "(1, 0, 0, 1, 0, 0, 0, 0, 1, 1, 0, 0)\n",
      "(1, 0, 0, 1, 0, 0, 0, 0, 1, 0, 1, 0)\n",
      "(1, 0, 0, 1, 0, 0, 0, 0, 1, 0, 0, 1)\n",
      "(1, 0, 0, 0, 1, 0, 0, 0, 0, 0, 0, 0)\n",
      "(1, 0, 0, 0, 1, 0, 0, 0, 0, 1, 0, 0)\n",
      "(1, 0, 0, 0, 1, 0, 0, 0, 0, 0, 1, 0)\n",
      "(1, 0, 0, 0, 1, 0, 0, 0, 0, 0, 0, 1)\n",
      "(1, 0, 0, 0, 1, 0, 1, 0, 0, 0, 0, 0)\n",
      "(1, 0, 0, 0, 1, 0, 1, 0, 0, 1, 0, 0)\n",
      "(1, 0, 0, 0, 1, 0, 1, 0, 0, 0, 1, 0)\n",
      "(1, 0, 0, 0, 1, 0, 1, 0, 0, 0, 0, 1)\n",
      "(1, 0, 0, 0, 1, 0, 0, 1, 0, 0, 0, 0)\n",
      "(1, 0, 0, 0, 1, 0, 0, 1, 0, 1, 0, 0)\n",
      "(1, 0, 0, 0, 1, 0, 0, 1, 0, 0, 1, 0)\n",
      "(1, 0, 0, 0, 1, 0, 0, 1, 0, 0, 0, 1)\n",
      "(1, 0, 0, 0, 1, 0, 0, 0, 1, 0, 0, 0)\n",
      "(1, 0, 0, 0, 1, 0, 0, 0, 1, 1, 0, 0)\n",
      "(1, 0, 0, 0, 1, 0, 0, 0, 1, 0, 1, 0)\n",
      "(1, 0, 0, 0, 1, 0, 0, 0, 1, 0, 0, 1)\n",
      "(1, 0, 0, 0, 0, 1, 0, 0, 0, 0, 0, 0)\n",
      "(1, 0, 0, 0, 0, 1, 0, 0, 0, 1, 0, 0)\n",
      "(1, 0, 0, 0, 0, 1, 0, 0, 0, 0, 1, 0)\n",
      "(1, 0, 0, 0, 0, 1, 0, 0, 0, 0, 0, 1)\n",
      "(1, 0, 0, 0, 0, 1, 1, 0, 0, 0, 0, 0)\n",
      "(1, 0, 0, 0, 0, 1, 1, 0, 0, 1, 0, 0)\n",
      "(1, 0, 0, 0, 0, 1, 1, 0, 0, 0, 1, 0)\n",
      "(1, 0, 0, 0, 0, 1, 1, 0, 0, 0, 0, 1)\n",
      "(1, 0, 0, 0, 0, 1, 0, 1, 0, 0, 0, 0)\n",
      "(1, 0, 0, 0, 0, 1, 0, 1, 0, 1, 0, 0)\n",
      "(1, 0, 0, 0, 0, 1, 0, 1, 0, 0, 1, 0)\n",
      "(1, 0, 0, 0, 0, 1, 0, 1, 0, 0, 0, 1)\n",
      "(1, 0, 0, 0, 0, 1, 0, 0, 1, 0, 0, 0)\n",
      "(1, 0, 0, 0, 0, 1, 0, 0, 1, 1, 0, 0)\n",
      "(1, 0, 0, 0, 0, 1, 0, 0, 1, 0, 1, 0)\n",
      "(1, 0, 0, 0, 0, 1, 0, 0, 1, 0, 0, 1)\n",
      "(0, 1, 0, 0, 0, 0, 0, 0, 0, 0, 0, 0)\n",
      "(0, 1, 0, 0, 0, 0, 0, 0, 0, 1, 0, 0)\n",
      "(0, 1, 0, 0, 0, 0, 0, 0, 0, 0, 1, 0)\n",
      "(0, 1, 0, 0, 0, 0, 0, 0, 0, 0, 0, 1)\n",
      "(0, 1, 0, 0, 0, 0, 1, 0, 0, 0, 0, 0)\n",
      "(0, 1, 0, 0, 0, 0, 1, 0, 0, 1, 0, 0)\n",
      "(0, 1, 0, 0, 0, 0, 1, 0, 0, 0, 1, 0)\n",
      "(0, 1, 0, 0, 0, 0, 1, 0, 0, 0, 0, 1)\n",
      "(0, 1, 0, 0, 0, 0, 0, 1, 0, 0, 0, 0)\n",
      "(0, 1, 0, 0, 0, 0, 0, 1, 0, 1, 0, 0)\n",
      "(0, 1, 0, 0, 0, 0, 0, 1, 0, 0, 1, 0)\n",
      "(0, 1, 0, 0, 0, 0, 0, 1, 0, 0, 0, 1)\n",
      "(0, 1, 0, 0, 0, 0, 0, 0, 1, 0, 0, 0)\n",
      "(0, 1, 0, 0, 0, 0, 0, 0, 1, 1, 0, 0)\n",
      "(0, 1, 0, 0, 0, 0, 0, 0, 1, 0, 1, 0)\n",
      "(0, 1, 0, 0, 0, 0, 0, 0, 1, 0, 0, 1)\n",
      "(0, 1, 0, 1, 0, 0, 0, 0, 0, 0, 0, 0)\n",
      "(0, 1, 0, 1, 0, 0, 0, 0, 0, 1, 0, 0)\n",
      "(0, 1, 0, 1, 0, 0, 0, 0, 0, 0, 1, 0)\n",
      "(0, 1, 0, 1, 0, 0, 0, 0, 0, 0, 0, 1)\n",
      "(0, 1, 0, 1, 0, 0, 1, 0, 0, 0, 0, 0)\n",
      "(0, 1, 0, 1, 0, 0, 1, 0, 0, 1, 0, 0)\n",
      "(0, 1, 0, 1, 0, 0, 1, 0, 0, 0, 1, 0)\n",
      "(0, 1, 0, 1, 0, 0, 1, 0, 0, 0, 0, 1)\n",
      "(0, 1, 0, 1, 0, 0, 0, 1, 0, 0, 0, 0)\n",
      "(0, 1, 0, 1, 0, 0, 0, 1, 0, 1, 0, 0)\n",
      "(0, 1, 0, 1, 0, 0, 0, 1, 0, 0, 1, 0)\n",
      "(0, 1, 0, 1, 0, 0, 0, 1, 0, 0, 0, 1)\n",
      "(0, 1, 0, 1, 0, 0, 0, 0, 1, 0, 0, 0)\n",
      "(0, 1, 0, 1, 0, 0, 0, 0, 1, 1, 0, 0)\n",
      "(0, 1, 0, 1, 0, 0, 0, 0, 1, 0, 1, 0)\n",
      "(0, 1, 0, 1, 0, 0, 0, 0, 1, 0, 0, 1)\n",
      "(0, 1, 0, 0, 1, 0, 0, 0, 0, 0, 0, 0)\n",
      "(0, 1, 0, 0, 1, 0, 0, 0, 0, 1, 0, 0)\n",
      "(0, 1, 0, 0, 1, 0, 0, 0, 0, 0, 1, 0)\n",
      "(0, 1, 0, 0, 1, 0, 0, 0, 0, 0, 0, 1)\n",
      "(0, 1, 0, 0, 1, 0, 1, 0, 0, 0, 0, 0)\n",
      "(0, 1, 0, 0, 1, 0, 1, 0, 0, 1, 0, 0)\n",
      "(0, 1, 0, 0, 1, 0, 1, 0, 0, 0, 1, 0)\n",
      "(0, 1, 0, 0, 1, 0, 1, 0, 0, 0, 0, 1)\n",
      "(0, 1, 0, 0, 1, 0, 0, 1, 0, 0, 0, 0)\n",
      "(0, 1, 0, 0, 1, 0, 0, 1, 0, 1, 0, 0)\n",
      "(0, 1, 0, 0, 1, 0, 0, 1, 0, 0, 1, 0)\n",
      "(0, 1, 0, 0, 1, 0, 0, 1, 0, 0, 0, 1)\n",
      "(0, 1, 0, 0, 1, 0, 0, 0, 1, 0, 0, 0)\n",
      "(0, 1, 0, 0, 1, 0, 0, 0, 1, 1, 0, 0)\n",
      "(0, 1, 0, 0, 1, 0, 0, 0, 1, 0, 1, 0)\n",
      "(0, 1, 0, 0, 1, 0, 0, 0, 1, 0, 0, 1)\n",
      "(0, 1, 0, 0, 0, 1, 0, 0, 0, 0, 0, 0)\n",
      "(0, 1, 0, 0, 0, 1, 0, 0, 0, 1, 0, 0)\n",
      "(0, 1, 0, 0, 0, 1, 0, 0, 0, 0, 1, 0)\n",
      "(0, 1, 0, 0, 0, 1, 0, 0, 0, 0, 0, 1)\n",
      "(0, 1, 0, 0, 0, 1, 1, 0, 0, 0, 0, 0)\n",
      "(0, 1, 0, 0, 0, 1, 1, 0, 0, 1, 0, 0)\n",
      "(0, 1, 0, 0, 0, 1, 1, 0, 0, 0, 1, 0)\n",
      "(0, 1, 0, 0, 0, 1, 1, 0, 0, 0, 0, 1)\n",
      "(0, 1, 0, 0, 0, 1, 0, 1, 0, 0, 0, 0)\n",
      "(0, 1, 0, 0, 0, 1, 0, 1, 0, 1, 0, 0)\n",
      "(0, 1, 0, 0, 0, 1, 0, 1, 0, 0, 1, 0)\n",
      "(0, 1, 0, 0, 0, 1, 0, 1, 0, 0, 0, 1)\n",
      "(0, 1, 0, 0, 0, 1, 0, 0, 1, 0, 0, 0)\n",
      "(0, 1, 0, 0, 0, 1, 0, 0, 1, 1, 0, 0)\n",
      "(0, 1, 0, 0, 0, 1, 0, 0, 1, 0, 1, 0)\n",
      "(0, 1, 0, 0, 0, 1, 0, 0, 1, 0, 0, 1)\n",
      "(0, 0, 1, 0, 0, 0, 0, 0, 0, 0, 0, 0)\n",
      "(0, 0, 1, 0, 0, 0, 0, 0, 0, 1, 0, 0)\n",
      "(0, 0, 1, 0, 0, 0, 0, 0, 0, 0, 1, 0)\n",
      "(0, 0, 1, 0, 0, 0, 0, 0, 0, 0, 0, 1)\n",
      "(0, 0, 1, 0, 0, 0, 1, 0, 0, 0, 0, 0)\n",
      "(0, 0, 1, 0, 0, 0, 1, 0, 0, 1, 0, 0)\n",
      "(0, 0, 1, 0, 0, 0, 1, 0, 0, 0, 1, 0)\n",
      "(0, 0, 1, 0, 0, 0, 1, 0, 0, 0, 0, 1)\n",
      "(0, 0, 1, 0, 0, 0, 0, 1, 0, 0, 0, 0)\n",
      "(0, 0, 1, 0, 0, 0, 0, 1, 0, 1, 0, 0)\n",
      "(0, 0, 1, 0, 0, 0, 0, 1, 0, 0, 1, 0)\n",
      "(0, 0, 1, 0, 0, 0, 0, 1, 0, 0, 0, 1)\n",
      "(0, 0, 1, 0, 0, 0, 0, 0, 1, 0, 0, 0)\n",
      "(0, 0, 1, 0, 0, 0, 0, 0, 1, 1, 0, 0)\n",
      "(0, 0, 1, 0, 0, 0, 0, 0, 1, 0, 1, 0)\n",
      "(0, 0, 1, 0, 0, 0, 0, 0, 1, 0, 0, 1)\n",
      "(0, 0, 1, 1, 0, 0, 0, 0, 0, 0, 0, 0)\n",
      "(0, 0, 1, 1, 0, 0, 0, 0, 0, 1, 0, 0)\n",
      "(0, 0, 1, 1, 0, 0, 0, 0, 0, 0, 1, 0)\n",
      "(0, 0, 1, 1, 0, 0, 0, 0, 0, 0, 0, 1)\n",
      "(0, 0, 1, 1, 0, 0, 1, 0, 0, 0, 0, 0)\n",
      "(0, 0, 1, 1, 0, 0, 1, 0, 0, 1, 0, 0)\n",
      "(0, 0, 1, 1, 0, 0, 1, 0, 0, 0, 1, 0)\n",
      "(0, 0, 1, 1, 0, 0, 1, 0, 0, 0, 0, 1)\n",
      "(0, 0, 1, 1, 0, 0, 0, 1, 0, 0, 0, 0)\n",
      "(0, 0, 1, 1, 0, 0, 0, 1, 0, 1, 0, 0)\n",
      "(0, 0, 1, 1, 0, 0, 0, 1, 0, 0, 1, 0)\n",
      "(0, 0, 1, 1, 0, 0, 0, 1, 0, 0, 0, 1)\n",
      "(0, 0, 1, 1, 0, 0, 0, 0, 1, 0, 0, 0)\n",
      "(0, 0, 1, 1, 0, 0, 0, 0, 1, 1, 0, 0)\n"
     ]
    },
    {
     "name": "stdout",
     "output_type": "stream",
     "text": [
      "(0, 0, 1, 1, 0, 0, 0, 0, 1, 0, 1, 0)\n",
      "(0, 0, 1, 1, 0, 0, 0, 0, 1, 0, 0, 1)\n",
      "(0, 0, 1, 0, 1, 0, 0, 0, 0, 0, 0, 0)\n",
      "(0, 0, 1, 0, 1, 0, 0, 0, 0, 1, 0, 0)\n",
      "(0, 0, 1, 0, 1, 0, 0, 0, 0, 0, 1, 0)\n",
      "(0, 0, 1, 0, 1, 0, 0, 0, 0, 0, 0, 1)\n",
      "(0, 0, 1, 0, 1, 0, 1, 0, 0, 0, 0, 0)\n",
      "(0, 0, 1, 0, 1, 0, 1, 0, 0, 1, 0, 0)\n",
      "(0, 0, 1, 0, 1, 0, 1, 0, 0, 0, 1, 0)\n",
      "(0, 0, 1, 0, 1, 0, 1, 0, 0, 0, 0, 1)\n",
      "(0, 0, 1, 0, 1, 0, 0, 1, 0, 0, 0, 0)\n",
      "(0, 0, 1, 0, 1, 0, 0, 1, 0, 1, 0, 0)\n",
      "(0, 0, 1, 0, 1, 0, 0, 1, 0, 0, 1, 0)\n",
      "(0, 0, 1, 0, 1, 0, 0, 1, 0, 0, 0, 1)\n",
      "(0, 0, 1, 0, 1, 0, 0, 0, 1, 0, 0, 0)\n",
      "(0, 0, 1, 0, 1, 0, 0, 0, 1, 1, 0, 0)\n",
      "(0, 0, 1, 0, 1, 0, 0, 0, 1, 0, 1, 0)\n",
      "(0, 0, 1, 0, 1, 0, 0, 0, 1, 0, 0, 1)\n",
      "(0, 0, 1, 0, 0, 1, 0, 0, 0, 0, 0, 0)\n",
      "(0, 0, 1, 0, 0, 1, 0, 0, 0, 1, 0, 0)\n",
      "(0, 0, 1, 0, 0, 1, 0, 0, 0, 0, 1, 0)\n",
      "(0, 0, 1, 0, 0, 1, 0, 0, 0, 0, 0, 1)\n",
      "(0, 0, 1, 0, 0, 1, 1, 0, 0, 0, 0, 0)\n",
      "(0, 0, 1, 0, 0, 1, 1, 0, 0, 1, 0, 0)\n",
      "(0, 0, 1, 0, 0, 1, 1, 0, 0, 0, 1, 0)\n",
      "(0, 0, 1, 0, 0, 1, 1, 0, 0, 0, 0, 1)\n",
      "(0, 0, 1, 0, 0, 1, 0, 1, 0, 0, 0, 0)\n",
      "(0, 0, 1, 0, 0, 1, 0, 1, 0, 1, 0, 0)\n",
      "(0, 0, 1, 0, 0, 1, 0, 1, 0, 0, 1, 0)\n",
      "(0, 0, 1, 0, 0, 1, 0, 1, 0, 0, 0, 1)\n",
      "(0, 0, 1, 0, 0, 1, 0, 0, 1, 0, 0, 0)\n",
      "(0, 0, 1, 0, 0, 1, 0, 0, 1, 1, 0, 0)\n",
      "(0, 0, 1, 0, 0, 1, 0, 0, 1, 0, 1, 0)\n",
      "(0, 0, 1, 0, 0, 1, 0, 0, 1, 0, 0, 1)\n"
     ]
    }
   ],
   "source": [
    "p, q, r, s, rAB, rCD, pRPQ = symbols('p q r s rAB rCD pRPQ', real = True)\n",
    "keys = derivatives_dict.keys()\n",
    "subsdict = {alpha + beta: p,\n",
    "           gamma+delta: r,\n",
    "           (Ax - Bx)**2 + (Ay - By)**2 + (Az - Bz)**2 : rAB,\n",
    "           (Cx - Dx)**2 + (Cy - Dy)**2 + (Cz - Dz)**2 : rCD,\n",
    "            (alpha + beta)*(delta + gamma)*((-(Cx*gamma + Dx*delta)/(delta + gamma) + \n",
    "                                             (Ax*alpha + Bx*beta)/(alpha + beta))**2 + \n",
    "                                            (-(Cy*gamma + Dy*delta)/(delta + gamma) + \n",
    "                                             (Ay*alpha + By*beta)/(alpha + beta))**2 + \n",
    "                                            (-(Cz*gamma + Dz*delta)/(delta + gamma) + \n",
    "                                             (Az*alpha + Bz*beta)/(alpha + beta))**2)/(alpha + beta + delta + gamma) : pRPQ\n",
    "           }\n",
    "twoel_dict = {}\n",
    "for key in keys:\n",
    "    print(key)\n",
    "    twoel = get_twoel(*key)\n",
    "    twoel_dict[key] = twoel.subs(subsdict)"
   ]
  },
  {
   "cell_type": "code",
   "execution_count": 76,
   "id": "b2958296",
   "metadata": {},
   "outputs": [
    {
     "data": {
      "text/latex": [
       "$\\displaystyle \\frac{2 \\pi^{2.5} \\left(- \\frac{\\gamma \\left(- Cz + Dz\\right) \\operatorname{boys}{\\left(0,pRPQ \\right)}}{p r \\left(p + r\\right)^{0.5}} + \\frac{\\left(\\frac{- Cz \\gamma - Dz \\delta}{r} + \\frac{Az \\alpha + Bz \\beta}{p}\\right) \\operatorname{boys}{\\left(1,pRPQ \\right)}}{\\left(p + r\\right)^{1.5}}\\right) e^{- \\frac{\\alpha \\beta rAB}{p}} e^{- \\frac{\\delta \\gamma rCD}{r}}}{r}$"
      ],
      "text/plain": [
       "2*pi**2.5*(-gamma*(-Cz + Dz)*boys(0, pRPQ)/(p*r*(p + r)**0.5) + ((-Cz*gamma - Dz*delta)/r + (Az*alpha + Bz*beta)/p)*boys(1, pRPQ)/(p + r)**1.5)*exp(-alpha*beta*rAB/p)*exp(-delta*gamma*rCD/r)/r"
      ]
     },
     "execution_count": 76,
     "metadata": {},
     "output_type": "execute_result"
    }
   ],
   "source": [
    "twoel_dict[tuple(9*[0]+[0,0,1])]"
   ]
  },
  {
   "cell_type": "code",
   "execution_count": 77,
   "id": "65ef7282",
   "metadata": {},
   "outputs": [],
   "source": [
    "def write_twoel(path = \"./\"):\n",
    "    with open(path+\"twoel.py\", \"w\") as file:\n",
    "        file.write(\"from scipy.special import hyp1f1 \\n\")\n",
    "        file.write(\"from numpy import sqrt, exp, pi, dot \\n\")\n",
    "        file.write(\"def boys(n,t):\\n\")\n",
    "        file.write(\"    return hyp1f1(n+0.5, n+1.5, -t)/(2.*n+1.)\\n\")\n",
    "        file.write(\"def twoel(ix,jx,kx,lx,mx,nx,ox,px,qx,rx,sx,tx, alpha,beta,gamma, delta, A,B,C,D):\\n\")\n",
    "        file.write(\"    p = alpha + beta\\n\")\n",
    "        file.write(\"    r = gamma + delta\\n\")\n",
    "        file.write(\"    rho = p*r/(p+r)\\n\")\n",
    "\n",
    "        file.write(\"    AB = A-B\\n\")\n",
    "        file.write(\"    CD = C-D\\n\")\n",
    "        file.write(\"    rAB = dot(AB, AB)\\n\")\n",
    "        file.write(\"    rCD = dot(CD, CD)\\n\")\n",
    "\n",
    "        file.write(\"    P = (alpha*A+beta*B)/p \\n\")\n",
    "        file.write(\"    Q = (gamma*C+delta*D)/r \\n\")\n",
    "        file.write(\"    PQ = P-Q \\n\")\n",
    "        file.write(\"    pRPQ = rho*dot(PQ,PQ) \\n\")\n",
    "        file.write(\"    Ax,Ay,Az = A[0], A[1], A[2] \\n\")\n",
    "        file.write(\"    Bx,By,Bz = B[0], B[1], B[2] \\n\")\n",
    "        file.write(\"    Cx,Cy,Cz = C[0], C[1], C[2] \\n\")\n",
    "        file.write(\"    Dx,Dy,Dz = D[0], D[1], D[2] \\n\")\n",
    "\n",
    "        for key, value in twoel_dict.items():\n",
    "            file.write(f\"    if (ix,jx,kx,lx,mx,nx,ox,px,qx,rx,sx,tx) == {key}:\\n\")\n",
    "            file.write(f\"          return {value}\\n\")"
   ]
  },
  {
   "cell_type": "code",
   "execution_count": 78,
   "id": "33dc958d",
   "metadata": {},
   "outputs": [],
   "source": [
    "write_twoel()"
   ]
  },
  {
   "cell_type": "code",
   "execution_count": 85,
   "id": "90f42ebb",
   "metadata": {},
   "outputs": [],
   "source": [
    "import numpy as np\n",
    "import S\n",
    "import V\n",
    "import twoel\n",
    "import importlib\n",
    "importlib.reload(twoel)\n",
    "importlib.reload(S)\n",
    "\n",
    "class gaussian:\n",
    "    def __init__(self, A, exps, coefs, ijk):\n",
    "        self.A = A\n",
    "        self.exps = exps\n",
    "        self.coefs = coefs\n",
    "        self.ijk = ijk\n",
    "        self.get_norm_constants()\n",
    "    \n",
    "    def setA(self, r):\n",
    "        self.A = r\n",
    "        \n",
    "    def get_norm_constants(self,):\n",
    "        self.norm_const = np.zeros(self.coefs.shape)\n",
    "        for i, alpha in enumerate(self.exps):\n",
    "                a = S.Sij(self.ijk[0], self.ijk[0], alpha, alpha, self.A[0], self.A[0])\n",
    "                b = S.Sij(self.ijk[1], self.ijk[1], alpha, alpha, self.A[1], self.A[1])\n",
    "                c = S.Sij(self.ijk[2], self.ijk[2], alpha, alpha, self.A[2], self.A[2])\n",
    "                self.norm_const[i] = 1./np.sqrt(a* b* c)\n",
    "            \n",
    "    def getS(self, other):\n",
    "        overlap = 0.0\n",
    "        for ca, alphaa, normi in zip (self.coefs, self.exps, self.norm_const):\n",
    "            for cb, alphab, normj in zip (other.coefs, other.exps, other.norm_const):\n",
    "                a = S.Sij(self.ijk[0], other.ijk[0], alphaa, alphab, self.A[0], other.A[0])\n",
    "                b = S.Sij(self.ijk[1], other.ijk[1], alphaa, alphab, self.A[1], other.A[1])\n",
    "                c = S.Sij(self.ijk[2], other.ijk[2], alphaa, alphab, self.A[2], other.A[2])\n",
    "                overlap += ca* cb* a * b * c * normi * normj\n",
    "        return overlap\n",
    "    \n",
    "\n",
    "    def T(self,other):\n",
    "        kinetic = 0.0\n",
    "        for ci, alphai, normi in zip(self.coefs, self.exps, self.norm_const):\n",
    "            for cj, alphaj, normj in zip(other.coefs, other.exps, other.norm_const):\n",
    "                a   = S.Sij(self.ijk[0], other.ijk[0], alphai, alphaj, self.A[0], other.A[0])\n",
    "                a2p = S.Sij(self.ijk[0], other.ijk[0]+2, alphai, alphaj, self.A[0], other.A[0])\n",
    "                a2m = S.Sij(self.ijk[0], other.ijk[0]-2, alphai, alphaj, self.A[0], other.A[0])\n",
    "\n",
    "                b   = S.Sij(self.ijk[1], other.ijk[1], alphai, alphaj, self.A[1], other.A[1])\n",
    "                b2p = S.Sij(self.ijk[1], other.ijk[1]+2, alphai, alphaj, self.A[1], other.A[1])\n",
    "                b2m = S.Sij(self.ijk[1], other.ijk[1]-2, alphai, alphaj, self.A[1], other.A[1])\n",
    "\n",
    "                c   = S.Sij(self.ijk[2], other.ijk[2], alphai, alphaj, self.A[2], other.A[2])\n",
    "                c2p = S.Sij(self.ijk[2], other.ijk[2]+2, alphai, alphaj, self.A[2], other.A[2])\n",
    "                c2m = S.Sij(self.ijk[2], other.ijk[2]-2, alphai, alphaj, self.A[2], other.A[2])\n",
    "               \n",
    "                til = -2*(alphaj**2)*a2p + alphaj*(2*other.ijk[0] + 1)*a - 0.5*other.ijk[0]*(other.ijk[0]-1)*a2m\n",
    "                tjm = -2*(alphaj**2)*b2p + alphaj*(2*other.ijk[1] + 1)*b - 0.5*other.ijk[1]*(other.ijk[1]-1)*b2m\n",
    "                tkn = -2*(alphaj**2)*c2p + alphaj*(2*other.ijk[2] + 1)*c - 0.5*other.ijk[2]*(other.ijk[2]-1)*c2m\n",
    "                kinetic+=ci*cj*(til*b*c+a*tjm*c+a*b*tkn)*normi*normj\n",
    "        return kinetic\n",
    "\n",
    "    \n",
    "    def getVC(self, other, RC):\n",
    "        ven = 0.0\n",
    "        for ca, alphaa, normi in zip (self.coefs, self.exps, self.norm_const):\n",
    "            for cb, alphab, normj in zip (other.coefs, other.exps, other.norm_const):\n",
    "                ven +=  ca*cb*normi*normj*V.Vij(self.ijk[0],self.ijk[1],self.ijk[2],\n",
    "                              other.ijk[0],other.ijk[1],other.ijk[2],\n",
    "                              alphaa, alphab, self.A, other.A, RC )\n",
    "        return ven\n",
    "    \n",
    "    def twoel(self, other1,other2,other3):\n",
    "        vint = 0.0\n",
    "        for ci, alphai, normi in zip (self.coefs, self.exps, self.norm_const):\n",
    "            for cj, alphaj, normj in zip (other1.coefs, other1.exps, other1.norm_const):\n",
    "                for ck, alphak, normk in zip (other2.coefs, other2.exps, other2.norm_const):\n",
    "                    for cl, alphal, norml in zip (other3.coefs, other3.exps, other3.norm_const):\n",
    "                        vint +=  ci*cj*ck*cl*normi*normj*normk*norml*twoel.twoel(self.ijk[0],self.ijk[1],self.ijk[2],\n",
    "                              other1.ijk[0],other1.ijk[1],other1.ijk[2],other2.ijk[0],other2.ijk[1],other2.ijk[2],\n",
    "                              other3.ijk[0],other3.ijk[1],other3.ijk[2],\n",
    "                              alphai, alphaj, alphak, alphal, self.A, other1.A, other2.A, other3.A )\n",
    "        return vint\n",
    "    \n",
    "    def __str__(self,):\n",
    "        string = ''.join([f\"------ Gaussian Function -------\\n\",\n",
    "                          f\"Center        =  {self.A} \\n\",\n",
    "                          f\"Exponents     =  {self.exps} \\n\",\n",
    "                          f\"Coefficients  =  {self.coefs} \\n\",\n",
    "                          f\"ijk           =  {self.ijk} \\n\"])\n",
    "        return string\n",
    "                \n"
   ]
  },
  {
   "cell_type": "code",
   "execution_count": 86,
   "id": "ca07e597",
   "metadata": {},
   "outputs": [
    {
     "data": {
      "text/plain": [
       "0.18791719748383084"
      ]
     },
     "execution_count": 86,
     "metadata": {},
     "output_type": "execute_result"
    }
   ],
   "source": [
    "s1 = gaussian(np.zeros(3), np.asarray([1.0, 0.5]), np.asarray([1.0, -1.0]), (0,0,1))\n",
    "s2 = gaussian(np.zeros(3), np.asarray([1.0]), np.asarray([1.0]), (0,0,1))\n",
    "s3 = gaussian(np.zeros(3), np.asarray([1.0]), np.asarray([1.0]), (0,0,1))\n",
    "s4 = gaussian(np.zeros(3), np.asarray([1.0]), np.asarray([1.0]), (0,0,1))\n",
    "s1.twoel(s2, s3, s4)\n"
   ]
  },
  {
   "cell_type": "code",
   "execution_count": 87,
   "id": "38b33fb7",
   "metadata": {},
   "outputs": [],
   "source": [
    "from copy import deepcopy\n",
    "a0 = 0.529177210903\n",
    "\n",
    "class molecule:\n",
    "    def __init__(self, atomlist):\n",
    "        self.atomlist = atomlist\n",
    "\n",
    "    def read_from_XYZ(self, path = \"/Users/rolandmitric/ethene.xyz\"):\n",
    "        data = np.loadtxt(path, skiprows = 2, dtype = {'names' : ('symbols', 'coords'), \n",
    "                                                         'formats' : ('O','3float64')}, )\n",
    "        self.atomlist = [atom(s, c/a0) for s, c in zip(data['symbols'], data['coords'])]\n",
    "        \n",
    "    def __str__(self):\n",
    "        return 31*'-'+'\\n'+''.join([at.__str__() for at in self.atomlist])+31*'-'+'\\n'\n",
    "    \n",
    "    def get_basis(self, name = 'sto-3g'):\n",
    "        self.basis_functions = []\n",
    "        basis = basisSet(name)\n",
    "        elements = list(set([at.get_atomic_number() for at in self.atomlist]))\n",
    "        basis.get(elements)\n",
    "        for at in self.atomlist:\n",
    "            atom_basis = basis.basis_functions[at.get_atomic_number()]\n",
    "            for gauss in atom_basis:\n",
    "                gauss_copy = deepcopy(gauss)\n",
    "                gauss_copy.setA(at.coord)\n",
    "                self.basis_functions.append(gauss_copy)\n",
    "                \n",
    "    def getS_slow(self,):\n",
    "        nbf = len(self.basis_functions)\n",
    "        self.S = np.zeros((nbf, nbf))\n",
    "        for i in range(nbf):\n",
    "            for j in range(i,nbf):\n",
    "                self.S[i,j] = self.basis_functions[i].getS(self.basis_functions[j])\n",
    "                self.S[j,i] = self.S[i,j]\n",
    "        \n",
    "\n",
    "    def getS(self):\n",
    "        nbf = len(self.basis_functions)\n",
    "        i, j = np.triu_indices(nbf)\n",
    "        S = np.array([self.basis_functions[x].getS(self.basis_functions[y]) for x, y in zip(i,j) ])\n",
    "        self.S = np.zeros((nbf, nbf))\n",
    "        self.S[i,j] = S\n",
    "        self.S[j,i] = S\n",
    "        \n",
    "    def getT(self):\n",
    "        nbf = len(self.basis_functions)\n",
    "        self.T = np.zeros((nbf,nbf))\n",
    "        for i in np.arange(nbf):\n",
    "            for j in np.arange(i,nbf):\n",
    "                self.T[i,j] = self.basis_functions[i].T(self.basis_functions[j])\n",
    "                self.T[j,i] = self.T[i,j]\n",
    "\n",
    "        \n",
    "    def getVij(self,i,j):\n",
    "        vint = 0.\n",
    "        for at in self.atomlist:\n",
    "            vint = vint- at.get_atomic_number()*self.basis_functions[i].getVC(self.basis_functions[j], at.coord)\n",
    "        return vint\n",
    "        \n",
    "    def getV(self):\n",
    "        nbf = len(self.basis_functions)\n",
    "        self.V = np.zeros((nbf, nbf))\n",
    "        for i in range(nbf):\n",
    "            for j in range(i,nbf):\n",
    "                self.V[i,j] = self.getVij(i,j)\n",
    "                self.V[j,i] = self.V[i,j]\n",
    "\n",
    "    def getTwoel(self):\n",
    "        nbf = len(self.basis_functions)\n",
    "        self.twoel = np.zeros((nbf,nbf,nbf,nbf))\n",
    "        for i in range(nbf):\n",
    "            for j in range(nbf):\n",
    "                for k in range(nbf):\n",
    "                    for l in range(nbf):\n",
    "                        self.twoel[i,j,k,l]  = self.basis_functions[i].twoel(self.basis_functions[j],\n",
    "                                                                              self.basis_functions[k],\n",
    "                                                                              self.basis_functions[l])\n",
    "        "
   ]
  },
  {
   "cell_type": "code",
   "execution_count": 89,
   "id": "f4f0a5b1",
   "metadata": {},
   "outputs": [
    {
     "name": "stdout",
     "output_type": "stream",
     "text": [
      "293.28925108909607\n"
     ]
    }
   ],
   "source": [
    "import time\n",
    "\n",
    "ethene = molecule([])\n",
    "ethene.read_from_XYZ(path = \"c2.xyz\")\n",
    "ethene.get_basis()\n",
    "ethene.getS()\n",
    "ethene.getT()\n",
    "ethene.getV()\n",
    "\n",
    "start = time.time()\n",
    "ethene.getTwoel()\n",
    "end = time.time()\n",
    "print(end - start)"
   ]
  },
  {
   "cell_type": "code",
   "execution_count": 65,
   "id": "dbd048e1",
   "metadata": {},
   "outputs": [
    {
     "data": {
      "text/plain": [
       "(True, True, True, True)"
      ]
     },
     "execution_count": 65,
     "metadata": {},
     "output_type": "execute_result"
    }
   ],
   "source": [
    "import pyscf\n",
    "from pyscf import gto\n",
    "mol = gto.M(atom = \"/Users/rolandmitric/c2.xyz\", basis = \"sto-3g\")\n",
    "T_pyscf = mol.intor(\"int1e_kin\", hermi = 1)\n",
    "S_pyscf = mol.intor(\"int1e_ovlp\", hermi = 1)\n",
    "V_pyscf = mol.intor(\"int1e_nuc\", hermi = 1)\n",
    "eri_pyscf = mol.intor(\"int2e\")\n",
    "np.allclose(ethene.S, S_pyscf), np.allclose(ethene.V, V_pyscf), np.allclose(ethene.twoel, eri_pyscf), np.allclose(ethene.T, T_pyscf)"
   ]
  },
  {
   "cell_type": "code",
   "execution_count": 66,
   "id": "7bf881be",
   "metadata": {},
   "outputs": [
    {
     "name": "stdout",
     "output_type": "stream",
     "text": [
      "10\n"
     ]
    },
    {
     "data": {
      "text/plain": [
       "[<matplotlib.lines.Line2D at 0x7fd7b048b9d0>]"
      ]
     },
     "execution_count": 66,
     "metadata": {},
     "output_type": "execute_result"
    },
    {
     "data": {
      "image/png": "[encoded data removed]",
      "text/plain": [
       "<Figure size 640x480 with 1 Axes>"
      ]
     },
     "metadata": {},
     "output_type": "display_data"
    }
   ],
   "source": [
    "print(len(ethene.basis_functions))\n",
    "t = ethene.twoel.reshape(10*10,10*10)\n",
    "plt.plot(np.diag(t))"
   ]
  },
  {
   "cell_type": "code",
   "execution_count": 67,
   "id": "3317b88b",
   "metadata": {},
   "outputs": [],
   "source": [
    "class hartree_fock(molecule):\n",
    "    def initialize(self):\n",
    "        self.nel = np.array([self.atomlist[i].get_atomic_number() for i in range(len(self.atomlist))]).sum()\n",
    "        self.nocc = self.nel//2\n",
    "        \n",
    "        # precalculate integrals \n",
    "        self.getS()\n",
    "        self.getT()\n",
    "        self.getV()\n",
    "        self.getTwoel()\n",
    "        \n",
    "        # orthogonalize AO\n",
    "        eigval, eigvec = np.linalg.eigh(self.S)\n",
    "        self.X = eigvec @ np.diag(1/np.sqrt(eigval))\n",
    "\n",
    "        # core hamiltonian + initialize density matrix\n",
    "        self.hcore = self.T + self.V\n",
    "        orb_en, orb = np.linalg.eigh(self.hcore)\n",
    "        \n",
    "        C = orb[:, :self.nocc]\n",
    "        self.P = C @ C.T\n",
    "    \n",
    "    def get_fock(self, P):\n",
    "        G = np.einsum('kl, ijkl -> ij', P, 2 * self.twoel-self.twoel.transpose(0,2,1,3))\n",
    "        return self.hcore + G\n",
    "    \n",
    "    def run_hf(self, max_iter = 100, threshold = 1e-6):\n",
    "        energy_last_iteration = 0.0\n",
    "        for iteration in range(max_iter):\n",
    "            # calculate Fock-matrix\n",
    "            F = self.get_fock(self.P)\n",
    "            # orthogonalize Fock-Matrix\n",
    "            F_ortho = self.X.T @ F @ self.X\n",
    "            # diagonalize Fock-Matrix\n",
    "            eigvals, eigvect = np.linalg.eigh(F_ortho)\n",
    "            # get new density matrix \n",
    "            C = eigvect[:, :self.nocc]\n",
    "            self.P = C @ C.T\n",
    "            self.P = self.X @ self.P @ self.X.T\n",
    "            # calculate energy \n",
    "            energy = np.trace((self.hcore + F) @ self.P)\n",
    "            print(f\"Iteration {iteration}, Energy = {energy} Hartree\")\n",
    "            print(f\"MO energies: {eigvals}\")\n",
    "            if np.abs(energy - energy_last_iteration) < threshold:\n",
    "                break\n",
    "            energy_last_iteration = energy\n",
    "        \n",
    "            \n",
    "            "
   ]
  },
  {
   "cell_type": "code",
   "execution_count": 68,
   "id": "1ede0d23",
   "metadata": {},
   "outputs": [
    {
     "data": {
      "text/plain": [
       "<matplotlib.image.AxesImage at 0x7fd7a325a7f0>"
      ]
     },
     "execution_count": 68,
     "metadata": {},
     "output_type": "execute_result"
    },
    {
     "data": {
      "image/png": "[encoded data removed]",
      "text/plain": [
       "<Figure size 480x480 with 1 Axes>"
      ]
     },
     "metadata": {},
     "output_type": "display_data"
    }
   ],
   "source": [
    "ethene = hartree_fock([])\n",
    "ethene.read_from_XYZ(path = \"./ethene.xyz\")\n",
    "ethene.get_basis()\n",
    "ethene.initialize()\n",
    "plt.matshow(ethene.P)"
   ]
  },
  {
   "cell_type": "code",
   "execution_count": 69,
   "id": "d15e801e",
   "metadata": {},
   "outputs": [
    {
     "name": "stdout",
     "output_type": "stream",
     "text": [
      "Iteration 0, Energy = -84.49350437087274 Hartree\n",
      "MO energies: [-7.06486098 -7.02618232  1.47372385  1.62162733  1.83527284  2.02053237\n",
      "  2.4712052   2.73421028  3.53702788  3.54043915  3.54234869  3.56430031\n",
      "  4.09155384  4.59888517]\n",
      "Iteration 1, Energy = -112.88526535021715 Hartree\n",
      "MO energies: [-11.55762114 -11.55690726  -1.24515729  -0.84860813  -0.71958433\n",
      "  -0.71532915  -0.61058312  -0.56176147   0.03944013   0.4562823\n",
      "   0.53537021   0.5557357    0.68649408   0.74921821]\n",
      "Iteration 2, Energy = -110.53571536421289 Hartree\n",
      "MO energies: [-10.9933095  -10.99233727  -0.97034227  -0.73808035  -0.59782924\n",
      "  -0.52347228  -0.45433631  -0.31651122   0.33929155   0.63015389\n",
      "   0.70197672   0.70617321   0.95286375   1.02916869]\n",
      "Iteration 3, Energy = -110.66320835538987 Hartree\n",
      "MO energies: [-11.02255967 -11.02161368  -0.98425502  -0.74525701  -0.60491912\n",
      "  -0.53643874  -0.46026813  -0.33196659   0.32380172   0.62266022\n",
      "   0.69514631   0.69919259   0.94441598   1.00989365]\n",
      "Iteration 4, Energy = -110.65650608552976 Hartree\n",
      "MO energies: [-11.02093959 -11.01999239  -0.98365634  -0.74493321  -0.6044031\n",
      "  -0.53595451  -0.45977031  -0.33120701   0.32461366   0.62313276\n",
      "   0.69537059   0.69948133   0.94505649   1.01075462]\n",
      "Iteration 5, Energy = -110.65681268628315 Hartree\n",
      "MO energies: [-11.02099552 -11.02004846  -0.98371622  -0.74496162  -0.60438837\n",
      "  -0.53602697  -0.4597464   -0.33125439   0.32457477   0.62313364\n",
      "   0.69532441   0.69944863   0.94507581   1.01067311]\n",
      "Iteration 6, Energy = -110.65678885395639 Hartree\n",
      "MO energies: [-11.02098623 -11.02003902  -0.98372041  -0.74496341  -0.60437825\n",
      "  -0.53603627  -0.45973522  -0.3312541    0.32457716   0.62314108\n",
      "   0.6953173    0.69944591   0.94508855   1.01066657]\n",
      "Iteration 7, Energy = -110.65678816021989 Hartree\n",
      "MO energies: [-11.02098506 -11.02003789  -0.983722    -0.74496419  -0.60437586\n",
      "  -0.53603937  -0.45973263  -0.33125464   0.32457709   0.62314291\n",
      "   0.6953151    0.69944498   0.94509155   1.01066388]\n",
      "Iteration 8, Energy = -110.65678774657776 Hartree\n",
      "MO energies: [-11.02098473 -11.02003752  -0.98372237  -0.74496439  -0.6043752\n",
      "  -0.53604021  -0.45973195  -0.33125475   0.3245771    0.62314346\n",
      "   0.69531451   0.69944478   0.94509238   1.01066317]\n",
      "Iteration 9, Energy = -110.65678765835455 Hartree\n",
      "MO energies: [-11.02098464 -11.02003744  -0.98372247  -0.74496444  -0.60437503\n",
      "  -0.53604044  -0.45973178  -0.33125478   0.3245771    0.62314362\n",
      "   0.69531435   0.69944472   0.9450926    1.01066296]\n",
      "Iteration 10, Energy = -110.65678763574022 Hartree\n",
      "MO energies: [-11.02098462 -11.02003741  -0.98372249  -0.74496445  -0.60437498\n",
      "  -0.53604051  -0.45973173  -0.33125479   0.3245771    0.62314366\n",
      "   0.69531431   0.69944471   0.94509266   1.01066291]\n",
      "Iteration 11, Energy = -110.65678762984018 Hartree\n",
      "MO energies: [-11.02098461 -11.02003741  -0.9837225   -0.74496446  -0.60437496\n",
      "  -0.53604052  -0.45973172  -0.33125479   0.3245771    0.62314367\n",
      "   0.6953143    0.69944471   0.94509267   1.01066289]\n",
      "Iteration 12, Energy = -110.65678762834267 Hartree\n",
      "MO energies: [-11.02098461 -11.02003741  -0.9837225   -0.74496446  -0.60437496\n",
      "  -0.53604053  -0.45973172  -0.33125479   0.3245771    0.62314368\n",
      "   0.69531429   0.69944471   0.94509268   1.01066289]\n",
      "Iteration 13, Energy = -110.65678762791543 Hartree\n",
      "MO energies: [-11.02098461 -11.02003741  -0.9837225   -0.74496446  -0.60437496\n",
      "  -0.53604053  -0.45973171  -0.33125479   0.3245771    0.62314368\n",
      "   0.69531429   0.69944471   0.94509268   1.01066289]\n",
      "Iteration 14, Energy = -110.65678762781673 Hartree\n",
      "MO energies: [-11.02098461 -11.0200374   -0.9837225   -0.74496446  -0.60437496\n",
      "  -0.53604053  -0.45973171  -0.33125479   0.3245771    0.62314368\n",
      "   0.69531429   0.69944471   0.94509268   1.01066289]\n",
      "Iteration 15, Energy = -110.65678762778364 Hartree\n",
      "MO energies: [-11.02098461 -11.0200374   -0.9837225   -0.74496446  -0.60437496\n",
      "  -0.53604053  -0.45973171  -0.33125479   0.3245771    0.62314368\n",
      "   0.69531429   0.69944471   0.94509268   1.01066289]\n",
      "Iteration 16, Energy = -110.65678762777938 Hartree\n",
      "MO energies: [-11.02098461 -11.0200374   -0.9837225   -0.74496446  -0.60437496\n",
      "  -0.53604053  -0.45973171  -0.33125479   0.3245771    0.62314368\n",
      "   0.69531429   0.69944471   0.94509268   1.01066289]\n",
      "Iteration 17, Energy = -110.65678762777671 Hartree\n",
      "MO energies: [-11.02098461 -11.0200374   -0.9837225   -0.74496446  -0.60437496\n",
      "  -0.53604053  -0.45973171  -0.33125479   0.3245771    0.62314368\n",
      "   0.69531429   0.69944471   0.94509268   1.01066289]\n",
      "Iteration 18, Energy = -110.65678762777718 Hartree\n",
      "MO energies: [-11.02098461 -11.0200374   -0.9837225   -0.74496446  -0.60437496\n",
      "  -0.53604053  -0.45973171  -0.33125479   0.3245771    0.62314368\n",
      "   0.69531429   0.69944471   0.94509268   1.01066289]\n",
      "Iteration 19, Energy = -110.65678762777694 Hartree\n",
      "MO energies: [-11.02098461 -11.0200374   -0.9837225   -0.74496446  -0.60437496\n",
      "  -0.53604053  -0.45973171  -0.33125479   0.3245771    0.62314368\n",
      "   0.69531429   0.69944471   0.94509268   1.01066289]\n",
      "Iteration 20, Energy = -110.65678762777749 Hartree\n",
      "MO energies: [-11.02098461 -11.0200374   -0.9837225   -0.74496446  -0.60437496\n",
      "  -0.53604053  -0.45973171  -0.33125479   0.3245771    0.62314368\n",
      "   0.69531429   0.69944471   0.94509268   1.01066289]\n",
      "Iteration 21, Energy = -110.6567876277772 Hartree\n",
      "MO energies: [-11.02098461 -11.0200374   -0.9837225   -0.74496446  -0.60437496\n",
      "  -0.53604053  -0.45973171  -0.33125479   0.3245771    0.62314368\n",
      "   0.69531429   0.69944471   0.94509268   1.01066289]\n",
      "Iteration 22, Energy = -110.65678762777743 Hartree\n",
      "MO energies: [-11.02098461 -11.0200374   -0.9837225   -0.74496446  -0.60437496\n",
      "  -0.53604053  -0.45973171  -0.33125479   0.3245771    0.62314368\n",
      "   0.69531429   0.69944471   0.94509268   1.01066289]\n",
      "Iteration 23, Energy = -110.65678762777748 Hartree\n",
      "MO energies: [-11.02098461 -11.0200374   -0.9837225   -0.74496446  -0.60437496\n",
      "  -0.53604053  -0.45973171  -0.33125479   0.3245771    0.62314368\n",
      "   0.69531429   0.69944471   0.94509268   1.01066289]\n",
      "Iteration 24, Energy = -110.6567876277774 Hartree\n",
      "MO energies: [-11.02098461 -11.0200374   -0.9837225   -0.74496446  -0.60437496\n",
      "  -0.53604053  -0.45973171  -0.33125479   0.3245771    0.62314368\n",
      "   0.69531429   0.69944471   0.94509268   1.01066289]\n",
      "Iteration 25, Energy = -110.65678762777748 Hartree\n",
      "MO energies: [-11.02098461 -11.0200374   -0.9837225   -0.74496446  -0.60437496\n",
      "  -0.53604053  -0.45973171  -0.33125479   0.3245771    0.62314368\n",
      "   0.69531429   0.69944471   0.94509268   1.01066289]\n",
      "Iteration 26, Energy = -110.65678762777742 Hartree\n",
      "MO energies: [-11.02098461 -11.0200374   -0.9837225   -0.74496446  -0.60437496\n",
      "  -0.53604053  -0.45973171  -0.33125479   0.3245771    0.62314368\n",
      "   0.69531429   0.69944471   0.94509268   1.01066289]\n",
      "Iteration 27, Energy = -110.65678762777755 Hartree\n",
      "MO energies: [-11.02098461 -11.0200374   -0.9837225   -0.74496446  -0.60437496\n",
      "  -0.53604053  -0.45973171  -0.33125479   0.3245771    0.62314368\n",
      "   0.69531429   0.69944471   0.94509268   1.01066289]\n",
      "Iteration 28, Energy = -110.65678762777749 Hartree\n",
      "MO energies: [-11.02098461 -11.0200374   -0.9837225   -0.74496446  -0.60437496\n",
      "  -0.53604053  -0.45973171  -0.33125479   0.3245771    0.62314368\n",
      "   0.69531429   0.69944471   0.94509268   1.01066289]\n",
      "Iteration 29, Energy = -110.65678762777746 Hartree\n",
      "MO energies: [-11.02098461 -11.0200374   -0.9837225   -0.74496446  -0.60437496\n",
      "  -0.53604053  -0.45973171  -0.33125479   0.3245771    0.62314368\n",
      "   0.69531429   0.69944471   0.94509268   1.01066289]\n",
      "Iteration 30, Energy = -110.65678762777742 Hartree\n",
      "MO energies: [-11.02098461 -11.0200374   -0.9837225   -0.74496446  -0.60437496\n",
      "  -0.53604053  -0.45973171  -0.33125479   0.3245771    0.62314368\n",
      "   0.69531429   0.69944471   0.94509268   1.01066289]\n",
      "Iteration 31, Energy = -110.65678762777742 Hartree\n",
      "MO energies: [-11.02098461 -11.0200374   -0.9837225   -0.74496446  -0.60437496\n",
      "  -0.53604053  -0.45973171  -0.33125479   0.3245771    0.62314368\n",
      "   0.69531429   0.69944471   0.94509268   1.01066289]\n"
     ]
    }
   ],
   "source": [
    "ethene.run_hf(threshold = 1e-8)"
   ]
  },
  {
   "cell_type": "code",
   "execution_count": 112,
   "id": "a6b1ec38",
   "metadata": {},
   "outputs": [
    {
     "name": "stdout",
     "output_type": "stream",
     "text": [
      "converged SCF energy = -77.0737298527087\n",
      "PySCF HF energy: -110.65678763727345\n",
      "[-11.0209847  -11.02003742  -0.98372247  -0.74496446  -0.60437502\n",
      "  -0.53604046  -0.45973179  -0.33125479   0.32457708   0.62314365\n",
      "   0.69531433   0.69944473   0.94509262   1.01066293]\n"
     ]
    }
   ],
   "source": [
    "import pyscf\n",
    "from pyscf import gto, scf\n",
    "mol = gto.M(atom = \"./ethene.xyz\", basis = \"sto-3g\")\n",
    "T_pyscf = mol.intor(\"int1e_kin\", hermi = 1)\n",
    "S_pyscf = mol.intor(\"int1e_ovlp\", hermi = 1)\n",
    "V_pyscf = mol.intor(\"int1e_nuc\", hermi = 1)\n",
    "eri_pyscf = mol.intor(\"int2e\")\n",
    "\n",
    "hf = scf.RHF(mol)\n",
    "hf.kernel()\n",
    "ehf = hf.e_tot\n",
    "nuc_rep = mol.energy_nuc()\n",
    "print(f\"PySCF HF energy: {ehf - nuc_rep}\")\n",
    "mo_pyscf = hf.mo_energy\n",
    "print(mo_pyscf)"
   ]
  },
  {
   "cell_type": "code",
   "execution_count": 72,
   "id": "77437114",
   "metadata": {},
   "outputs": [
    {
     "name": "stdout",
     "output_type": "stream",
     "text": [
      "1.2895467841612873e-08 -6.790668303767477e-08 -6.565792002270884e-08\n",
      "-0.5762099550330602 -0.18706167924130462 0.9087846587164622\n",
      "0.45364303326283223 0.9920487103917075 0.05428664284304252\n",
      "-0.6616312668918253 -0.05079887153371564 -0.8675039451863359\n",
      "0.7841981757665788 -0.754188091710006 -0.09556729071525509\n"
     ]
    },
    {
     "data": {
      "image/png": "[encoded data removed]",
      "text/plain": [
       "<rdkit.Chem.rdchem.Mol at 0x7fd7a2d4b2e0>"
      ]
     },
     "execution_count": 72,
     "metadata": {},
     "output_type": "execute_result"
    }
   ],
   "source": [
    "from rdkit import Chem\n",
    "from rdkit.Chem import AllChem\n",
    "et = Chem.MolFromSmiles('C')\n",
    "et = Chem.AddHs(et)\n",
    "AllChem.EmbedMolecule(et)\n",
    "AllChem.MMFFOptimizeMolecule(et)\n",
    "for atom in et.GetAtoms():\n",
    "    pos = et.GetConformer().GetAtomPosition(atom.GetIdx())\n",
    "    print(pos.x,pos.y,pos.z)\n",
    "et"
   ]
  },
  {
   "cell_type": "code",
   "execution_count": 103,
   "id": "5ca25b9e",
   "metadata": {},
   "outputs": [
    {
     "name": "stdout",
     "output_type": "stream",
     "text": [
      "Help on _ROAtomSeq in module rdkit.Chem.rdchem object:\n",
      "\n",
      "class _ROAtomSeq(Boost.Python.instance)\n",
      " |  Read-only sequence of atoms, not constructible from Python.\n",
      " |  \n",
      " |  Method resolution order:\n",
      " |      _ROAtomSeq\n",
      " |      Boost.Python.instance\n",
      " |      builtins.object\n",
      " |  \n",
      " |  Static methods defined here:\n",
      " |  \n",
      " |  __getitem__(...)\n",
      " |      __getitem__( (_ROAtomSeq)arg1, (int)arg2) -> Atom :\n",
      " |      \n",
      " |          C++ signature :\n",
      " |              RDKit::Atom* __getitem__(RDKit::ReadOnlySeq<RDKit::AtomIterator_<RDKit::Atom, RDKit::ROMol>, RDKit::Atom*, RDKit::AtomCountFunctor> {lvalue},int)\n",
      " |  \n",
      " |  __init__(...)\n",
      " |      Raises an exception\n",
      " |      This class cannot be instantiated from Python\n",
      " |  \n",
      " |  __iter__(...)\n",
      " |      __iter__( (_ROAtomSeq)arg1) -> _ROAtomSeq :\n",
      " |      \n",
      " |          C++ signature :\n",
      " |              RDKit::ReadOnlySeq<RDKit::AtomIterator_<RDKit::Atom, RDKit::ROMol>, RDKit::Atom*, RDKit::AtomCountFunctor>* __iter__(RDKit::ReadOnlySeq<RDKit::AtomIterator_<RDKit::Atom, RDKit::ROMol>, RDKit::Atom*, RDKit::AtomCountFunctor> {lvalue})\n",
      " |  \n",
      " |  __len__(...)\n",
      " |      __len__( (_ROAtomSeq)arg1) -> int :\n",
      " |      \n",
      " |          C++ signature :\n",
      " |              int __len__(RDKit::ReadOnlySeq<RDKit::AtomIterator_<RDKit::Atom, RDKit::ROMol>, RDKit::Atom*, RDKit::AtomCountFunctor> {lvalue})\n",
      " |  \n",
      " |  __next__(...)\n",
      " |      __next__( (_ROAtomSeq)arg1) -> Atom :\n",
      " |      \n",
      " |          C++ signature :\n",
      " |              RDKit::Atom* __next__(RDKit::ReadOnlySeq<RDKit::AtomIterator_<RDKit::Atom, RDKit::ROMol>, RDKit::Atom*, RDKit::AtomCountFunctor> {lvalue})\n",
      " |  \n",
      " |  __reduce__ = <unnamed Boost.Python function>(...)\n",
      " |  \n",
      " |  ----------------------------------------------------------------------\n",
      " |  Static methods inherited from Boost.Python.instance:\n",
      " |  \n",
      " |  __new__(*args, **kwargs) from Boost.Python.class\n",
      " |      Create and return a new object.  See help(type) for accurate signature.\n",
      " |  \n",
      " |  ----------------------------------------------------------------------\n",
      " |  Data descriptors inherited from Boost.Python.instance:\n",
      " |  \n",
      " |  __dict__\n",
      " |  \n",
      " |  __weakref__\n",
      "\n"
     ]
    }
   ],
   "source": [
    "atoms = et.GetAtoms()\n",
    "help(atoms)"
   ]
  },
  {
   "cell_type": "code",
   "execution_count": 109,
   "id": "fa461566",
   "metadata": {},
   "outputs": [],
   "source": [
    "import mayavi"
   ]
  },
  {
   "cell_type": "code",
   "execution_count": null,
   "id": "a180da25",
   "metadata": {},
   "outputs": [],
   "source": []
  }
 ],
 "metadata": {
  "kernelspec": {
   "display_name": "Python 3 (ipykernel)",
   "language": "python",
   "name": "python3"
  },
  "language_info": {
   "codemirror_mode": {
    "name": "ipython",
    "version": 3
   },
   "file_extension": ".py",
   "mimetype": "text/x-python",
   "name": "python",
   "nbconvert_exporter": "python",
   "pygments_lexer": "ipython3",
   "version": "3.10.0"
  }
 },
 "nbformat": 4,
 "nbformat_minor": 5
}
